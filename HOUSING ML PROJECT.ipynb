{
 "cells": [
  {
   "cell_type": "code",
   "execution_count": 1,
   "metadata": {},
   "outputs": [],
   "source": [
    "import pandas as pd \n",
    "import numpy as np\n",
    "import matplotlib.pyplot as mp\n",
    "import seaborn as sb"
   ]
  },
  {
   "cell_type": "code",
   "execution_count": 2,
   "metadata": {},
   "outputs": [
    {
     "data": {
      "text/html": [
       "<div>\n",
       "<style scoped>\n",
       "    .dataframe tbody tr th:only-of-type {\n",
       "        vertical-align: middle;\n",
       "    }\n",
       "\n",
       "    .dataframe tbody tr th {\n",
       "        vertical-align: top;\n",
       "    }\n",
       "\n",
       "    .dataframe thead th {\n",
       "        text-align: right;\n",
       "    }\n",
       "</style>\n",
       "<table border=\"1\" class=\"dataframe\">\n",
       "  <thead>\n",
       "    <tr style=\"text-align: right;\">\n",
       "      <th></th>\n",
       "      <th>price</th>\n",
       "      <th>area</th>\n",
       "      <th>bedrooms</th>\n",
       "      <th>bathrooms</th>\n",
       "      <th>stories</th>\n",
       "      <th>mainroad</th>\n",
       "      <th>guestroom</th>\n",
       "      <th>basement</th>\n",
       "      <th>hotwaterheating</th>\n",
       "      <th>airconditioning</th>\n",
       "      <th>parking</th>\n",
       "      <th>prefarea</th>\n",
       "      <th>furnishingstatus</th>\n",
       "    </tr>\n",
       "  </thead>\n",
       "  <tbody>\n",
       "    <tr>\n",
       "      <th>0</th>\n",
       "      <td>13300000</td>\n",
       "      <td>7420</td>\n",
       "      <td>4</td>\n",
       "      <td>2</td>\n",
       "      <td>3</td>\n",
       "      <td>yes</td>\n",
       "      <td>no</td>\n",
       "      <td>no</td>\n",
       "      <td>no</td>\n",
       "      <td>yes</td>\n",
       "      <td>2</td>\n",
       "      <td>yes</td>\n",
       "      <td>furnished</td>\n",
       "    </tr>\n",
       "    <tr>\n",
       "      <th>1</th>\n",
       "      <td>12250000</td>\n",
       "      <td>8960</td>\n",
       "      <td>4</td>\n",
       "      <td>4</td>\n",
       "      <td>4</td>\n",
       "      <td>yes</td>\n",
       "      <td>no</td>\n",
       "      <td>no</td>\n",
       "      <td>no</td>\n",
       "      <td>yes</td>\n",
       "      <td>3</td>\n",
       "      <td>no</td>\n",
       "      <td>furnished</td>\n",
       "    </tr>\n",
       "    <tr>\n",
       "      <th>2</th>\n",
       "      <td>12250000</td>\n",
       "      <td>9960</td>\n",
       "      <td>3</td>\n",
       "      <td>2</td>\n",
       "      <td>2</td>\n",
       "      <td>yes</td>\n",
       "      <td>no</td>\n",
       "      <td>yes</td>\n",
       "      <td>no</td>\n",
       "      <td>no</td>\n",
       "      <td>2</td>\n",
       "      <td>yes</td>\n",
       "      <td>semi-furnished</td>\n",
       "    </tr>\n",
       "    <tr>\n",
       "      <th>3</th>\n",
       "      <td>12215000</td>\n",
       "      <td>7500</td>\n",
       "      <td>4</td>\n",
       "      <td>2</td>\n",
       "      <td>2</td>\n",
       "      <td>yes</td>\n",
       "      <td>no</td>\n",
       "      <td>yes</td>\n",
       "      <td>no</td>\n",
       "      <td>yes</td>\n",
       "      <td>3</td>\n",
       "      <td>yes</td>\n",
       "      <td>furnished</td>\n",
       "    </tr>\n",
       "    <tr>\n",
       "      <th>4</th>\n",
       "      <td>11410000</td>\n",
       "      <td>7420</td>\n",
       "      <td>4</td>\n",
       "      <td>1</td>\n",
       "      <td>2</td>\n",
       "      <td>yes</td>\n",
       "      <td>yes</td>\n",
       "      <td>yes</td>\n",
       "      <td>no</td>\n",
       "      <td>yes</td>\n",
       "      <td>2</td>\n",
       "      <td>no</td>\n",
       "      <td>furnished</td>\n",
       "    </tr>\n",
       "    <tr>\n",
       "      <th>5</th>\n",
       "      <td>10850000</td>\n",
       "      <td>7500</td>\n",
       "      <td>3</td>\n",
       "      <td>3</td>\n",
       "      <td>1</td>\n",
       "      <td>yes</td>\n",
       "      <td>no</td>\n",
       "      <td>yes</td>\n",
       "      <td>no</td>\n",
       "      <td>yes</td>\n",
       "      <td>2</td>\n",
       "      <td>yes</td>\n",
       "      <td>semi-furnished</td>\n",
       "    </tr>\n",
       "    <tr>\n",
       "      <th>6</th>\n",
       "      <td>10150000</td>\n",
       "      <td>8580</td>\n",
       "      <td>4</td>\n",
       "      <td>3</td>\n",
       "      <td>4</td>\n",
       "      <td>yes</td>\n",
       "      <td>no</td>\n",
       "      <td>no</td>\n",
       "      <td>no</td>\n",
       "      <td>yes</td>\n",
       "      <td>2</td>\n",
       "      <td>yes</td>\n",
       "      <td>semi-furnished</td>\n",
       "    </tr>\n",
       "    <tr>\n",
       "      <th>7</th>\n",
       "      <td>10150000</td>\n",
       "      <td>16200</td>\n",
       "      <td>5</td>\n",
       "      <td>3</td>\n",
       "      <td>2</td>\n",
       "      <td>yes</td>\n",
       "      <td>no</td>\n",
       "      <td>no</td>\n",
       "      <td>no</td>\n",
       "      <td>no</td>\n",
       "      <td>0</td>\n",
       "      <td>no</td>\n",
       "      <td>unfurnished</td>\n",
       "    </tr>\n",
       "    <tr>\n",
       "      <th>8</th>\n",
       "      <td>9870000</td>\n",
       "      <td>8100</td>\n",
       "      <td>4</td>\n",
       "      <td>1</td>\n",
       "      <td>2</td>\n",
       "      <td>yes</td>\n",
       "      <td>yes</td>\n",
       "      <td>yes</td>\n",
       "      <td>no</td>\n",
       "      <td>yes</td>\n",
       "      <td>2</td>\n",
       "      <td>yes</td>\n",
       "      <td>furnished</td>\n",
       "    </tr>\n",
       "    <tr>\n",
       "      <th>9</th>\n",
       "      <td>9800000</td>\n",
       "      <td>5750</td>\n",
       "      <td>3</td>\n",
       "      <td>2</td>\n",
       "      <td>4</td>\n",
       "      <td>yes</td>\n",
       "      <td>yes</td>\n",
       "      <td>no</td>\n",
       "      <td>no</td>\n",
       "      <td>yes</td>\n",
       "      <td>1</td>\n",
       "      <td>yes</td>\n",
       "      <td>unfurnished</td>\n",
       "    </tr>\n",
       "    <tr>\n",
       "      <th>10</th>\n",
       "      <td>9800000</td>\n",
       "      <td>13200</td>\n",
       "      <td>3</td>\n",
       "      <td>1</td>\n",
       "      <td>2</td>\n",
       "      <td>yes</td>\n",
       "      <td>no</td>\n",
       "      <td>yes</td>\n",
       "      <td>no</td>\n",
       "      <td>yes</td>\n",
       "      <td>2</td>\n",
       "      <td>yes</td>\n",
       "      <td>furnished</td>\n",
       "    </tr>\n",
       "    <tr>\n",
       "      <th>11</th>\n",
       "      <td>9681000</td>\n",
       "      <td>6000</td>\n",
       "      <td>4</td>\n",
       "      <td>3</td>\n",
       "      <td>2</td>\n",
       "      <td>yes</td>\n",
       "      <td>yes</td>\n",
       "      <td>yes</td>\n",
       "      <td>yes</td>\n",
       "      <td>no</td>\n",
       "      <td>2</td>\n",
       "      <td>no</td>\n",
       "      <td>semi-furnished</td>\n",
       "    </tr>\n",
       "    <tr>\n",
       "      <th>12</th>\n",
       "      <td>9310000</td>\n",
       "      <td>6550</td>\n",
       "      <td>4</td>\n",
       "      <td>2</td>\n",
       "      <td>2</td>\n",
       "      <td>yes</td>\n",
       "      <td>no</td>\n",
       "      <td>no</td>\n",
       "      <td>no</td>\n",
       "      <td>yes</td>\n",
       "      <td>1</td>\n",
       "      <td>yes</td>\n",
       "      <td>semi-furnished</td>\n",
       "    </tr>\n",
       "    <tr>\n",
       "      <th>13</th>\n",
       "      <td>9240000</td>\n",
       "      <td>3500</td>\n",
       "      <td>4</td>\n",
       "      <td>2</td>\n",
       "      <td>2</td>\n",
       "      <td>yes</td>\n",
       "      <td>no</td>\n",
       "      <td>no</td>\n",
       "      <td>yes</td>\n",
       "      <td>no</td>\n",
       "      <td>2</td>\n",
       "      <td>no</td>\n",
       "      <td>furnished</td>\n",
       "    </tr>\n",
       "    <tr>\n",
       "      <th>14</th>\n",
       "      <td>9240000</td>\n",
       "      <td>7800</td>\n",
       "      <td>3</td>\n",
       "      <td>2</td>\n",
       "      <td>2</td>\n",
       "      <td>yes</td>\n",
       "      <td>no</td>\n",
       "      <td>no</td>\n",
       "      <td>no</td>\n",
       "      <td>no</td>\n",
       "      <td>0</td>\n",
       "      <td>yes</td>\n",
       "      <td>semi-furnished</td>\n",
       "    </tr>\n",
       "    <tr>\n",
       "      <th>15</th>\n",
       "      <td>9100000</td>\n",
       "      <td>6000</td>\n",
       "      <td>4</td>\n",
       "      <td>1</td>\n",
       "      <td>2</td>\n",
       "      <td>yes</td>\n",
       "      <td>no</td>\n",
       "      <td>yes</td>\n",
       "      <td>no</td>\n",
       "      <td>no</td>\n",
       "      <td>2</td>\n",
       "      <td>no</td>\n",
       "      <td>semi-furnished</td>\n",
       "    </tr>\n",
       "    <tr>\n",
       "      <th>16</th>\n",
       "      <td>9100000</td>\n",
       "      <td>6600</td>\n",
       "      <td>4</td>\n",
       "      <td>2</td>\n",
       "      <td>2</td>\n",
       "      <td>yes</td>\n",
       "      <td>yes</td>\n",
       "      <td>yes</td>\n",
       "      <td>no</td>\n",
       "      <td>yes</td>\n",
       "      <td>1</td>\n",
       "      <td>yes</td>\n",
       "      <td>unfurnished</td>\n",
       "    </tr>\n",
       "    <tr>\n",
       "      <th>17</th>\n",
       "      <td>8960000</td>\n",
       "      <td>8500</td>\n",
       "      <td>3</td>\n",
       "      <td>2</td>\n",
       "      <td>4</td>\n",
       "      <td>yes</td>\n",
       "      <td>no</td>\n",
       "      <td>no</td>\n",
       "      <td>no</td>\n",
       "      <td>yes</td>\n",
       "      <td>2</td>\n",
       "      <td>no</td>\n",
       "      <td>furnished</td>\n",
       "    </tr>\n",
       "    <tr>\n",
       "      <th>18</th>\n",
       "      <td>8890000</td>\n",
       "      <td>4600</td>\n",
       "      <td>3</td>\n",
       "      <td>2</td>\n",
       "      <td>2</td>\n",
       "      <td>yes</td>\n",
       "      <td>yes</td>\n",
       "      <td>no</td>\n",
       "      <td>no</td>\n",
       "      <td>yes</td>\n",
       "      <td>2</td>\n",
       "      <td>no</td>\n",
       "      <td>furnished</td>\n",
       "    </tr>\n",
       "    <tr>\n",
       "      <th>19</th>\n",
       "      <td>8855000</td>\n",
       "      <td>6420</td>\n",
       "      <td>3</td>\n",
       "      <td>2</td>\n",
       "      <td>2</td>\n",
       "      <td>yes</td>\n",
       "      <td>no</td>\n",
       "      <td>no</td>\n",
       "      <td>no</td>\n",
       "      <td>yes</td>\n",
       "      <td>1</td>\n",
       "      <td>yes</td>\n",
       "      <td>semi-furnished</td>\n",
       "    </tr>\n",
       "    <tr>\n",
       "      <th>20</th>\n",
       "      <td>8750000</td>\n",
       "      <td>4320</td>\n",
       "      <td>3</td>\n",
       "      <td>1</td>\n",
       "      <td>2</td>\n",
       "      <td>yes</td>\n",
       "      <td>no</td>\n",
       "      <td>yes</td>\n",
       "      <td>yes</td>\n",
       "      <td>no</td>\n",
       "      <td>2</td>\n",
       "      <td>no</td>\n",
       "      <td>semi-furnished</td>\n",
       "    </tr>\n",
       "    <tr>\n",
       "      <th>21</th>\n",
       "      <td>8680000</td>\n",
       "      <td>7155</td>\n",
       "      <td>3</td>\n",
       "      <td>2</td>\n",
       "      <td>1</td>\n",
       "      <td>yes</td>\n",
       "      <td>yes</td>\n",
       "      <td>yes</td>\n",
       "      <td>no</td>\n",
       "      <td>yes</td>\n",
       "      <td>2</td>\n",
       "      <td>no</td>\n",
       "      <td>unfurnished</td>\n",
       "    </tr>\n",
       "    <tr>\n",
       "      <th>22</th>\n",
       "      <td>8645000</td>\n",
       "      <td>8050</td>\n",
       "      <td>3</td>\n",
       "      <td>1</td>\n",
       "      <td>1</td>\n",
       "      <td>yes</td>\n",
       "      <td>yes</td>\n",
       "      <td>yes</td>\n",
       "      <td>no</td>\n",
       "      <td>yes</td>\n",
       "      <td>1</td>\n",
       "      <td>no</td>\n",
       "      <td>furnished</td>\n",
       "    </tr>\n",
       "    <tr>\n",
       "      <th>23</th>\n",
       "      <td>8645000</td>\n",
       "      <td>4560</td>\n",
       "      <td>3</td>\n",
       "      <td>2</td>\n",
       "      <td>2</td>\n",
       "      <td>yes</td>\n",
       "      <td>yes</td>\n",
       "      <td>yes</td>\n",
       "      <td>no</td>\n",
       "      <td>yes</td>\n",
       "      <td>1</td>\n",
       "      <td>no</td>\n",
       "      <td>furnished</td>\n",
       "    </tr>\n",
       "    <tr>\n",
       "      <th>24</th>\n",
       "      <td>8575000</td>\n",
       "      <td>8800</td>\n",
       "      <td>3</td>\n",
       "      <td>2</td>\n",
       "      <td>2</td>\n",
       "      <td>yes</td>\n",
       "      <td>no</td>\n",
       "      <td>no</td>\n",
       "      <td>no</td>\n",
       "      <td>yes</td>\n",
       "      <td>2</td>\n",
       "      <td>no</td>\n",
       "      <td>furnished</td>\n",
       "    </tr>\n",
       "  </tbody>\n",
       "</table>\n",
       "</div>"
      ],
      "text/plain": [
       "       price   area  bedrooms  bathrooms  stories mainroad guestroom basement  \\\n",
       "0   13300000   7420         4          2        3      yes        no       no   \n",
       "1   12250000   8960         4          4        4      yes        no       no   \n",
       "2   12250000   9960         3          2        2      yes        no      yes   \n",
       "3   12215000   7500         4          2        2      yes        no      yes   \n",
       "4   11410000   7420         4          1        2      yes       yes      yes   \n",
       "5   10850000   7500         3          3        1      yes        no      yes   \n",
       "6   10150000   8580         4          3        4      yes        no       no   \n",
       "7   10150000  16200         5          3        2      yes        no       no   \n",
       "8    9870000   8100         4          1        2      yes       yes      yes   \n",
       "9    9800000   5750         3          2        4      yes       yes       no   \n",
       "10   9800000  13200         3          1        2      yes        no      yes   \n",
       "11   9681000   6000         4          3        2      yes       yes      yes   \n",
       "12   9310000   6550         4          2        2      yes        no       no   \n",
       "13   9240000   3500         4          2        2      yes        no       no   \n",
       "14   9240000   7800         3          2        2      yes        no       no   \n",
       "15   9100000   6000         4          1        2      yes        no      yes   \n",
       "16   9100000   6600         4          2        2      yes       yes      yes   \n",
       "17   8960000   8500         3          2        4      yes        no       no   \n",
       "18   8890000   4600         3          2        2      yes       yes       no   \n",
       "19   8855000   6420         3          2        2      yes        no       no   \n",
       "20   8750000   4320         3          1        2      yes        no      yes   \n",
       "21   8680000   7155         3          2        1      yes       yes      yes   \n",
       "22   8645000   8050         3          1        1      yes       yes      yes   \n",
       "23   8645000   4560         3          2        2      yes       yes      yes   \n",
       "24   8575000   8800         3          2        2      yes        no       no   \n",
       "\n",
       "   hotwaterheating airconditioning  parking prefarea furnishingstatus  \n",
       "0               no             yes        2      yes        furnished  \n",
       "1               no             yes        3       no        furnished  \n",
       "2               no              no        2      yes   semi-furnished  \n",
       "3               no             yes        3      yes        furnished  \n",
       "4               no             yes        2       no        furnished  \n",
       "5               no             yes        2      yes   semi-furnished  \n",
       "6               no             yes        2      yes   semi-furnished  \n",
       "7               no              no        0       no      unfurnished  \n",
       "8               no             yes        2      yes        furnished  \n",
       "9               no             yes        1      yes      unfurnished  \n",
       "10              no             yes        2      yes        furnished  \n",
       "11             yes              no        2       no   semi-furnished  \n",
       "12              no             yes        1      yes   semi-furnished  \n",
       "13             yes              no        2       no        furnished  \n",
       "14              no              no        0      yes   semi-furnished  \n",
       "15              no              no        2       no   semi-furnished  \n",
       "16              no             yes        1      yes      unfurnished  \n",
       "17              no             yes        2       no        furnished  \n",
       "18              no             yes        2       no        furnished  \n",
       "19              no             yes        1      yes   semi-furnished  \n",
       "20             yes              no        2       no   semi-furnished  \n",
       "21              no             yes        2       no      unfurnished  \n",
       "22              no             yes        1       no        furnished  \n",
       "23              no             yes        1       no        furnished  \n",
       "24              no             yes        2       no        furnished  "
      ]
     },
     "execution_count": 2,
     "metadata": {},
     "output_type": "execute_result"
    }
   ],
   "source": [
    "h=pd.read_csv(r'C:\\Users\\Lenovo\\Desktop\\Housing.csv',header=0) # IT IS USED TO ACCESS THE FILE\n",
    "h.head(25)"
   ]
  },
  {
   "cell_type": "code",
   "execution_count": 3,
   "metadata": {},
   "outputs": [
    {
     "data": {
      "text/html": [
       "<div>\n",
       "<style scoped>\n",
       "    .dataframe tbody tr th:only-of-type {\n",
       "        vertical-align: middle;\n",
       "    }\n",
       "\n",
       "    .dataframe tbody tr th {\n",
       "        vertical-align: top;\n",
       "    }\n",
       "\n",
       "    .dataframe thead th {\n",
       "        text-align: right;\n",
       "    }\n",
       "</style>\n",
       "<table border=\"1\" class=\"dataframe\">\n",
       "  <thead>\n",
       "    <tr style=\"text-align: right;\">\n",
       "      <th></th>\n",
       "      <th>area</th>\n",
       "      <th>bedrooms</th>\n",
       "      <th>bathrooms</th>\n",
       "      <th>stories</th>\n",
       "      <th>mainroad</th>\n",
       "      <th>guestroom</th>\n",
       "      <th>basement</th>\n",
       "      <th>hotwaterheating</th>\n",
       "      <th>airconditioning</th>\n",
       "      <th>parking</th>\n",
       "      <th>prefarea</th>\n",
       "      <th>furnishingstatus</th>\n",
       "      <th>price</th>\n",
       "    </tr>\n",
       "  </thead>\n",
       "  <tbody>\n",
       "    <tr>\n",
       "      <th>0</th>\n",
       "      <td>7420</td>\n",
       "      <td>4</td>\n",
       "      <td>2</td>\n",
       "      <td>3</td>\n",
       "      <td>yes</td>\n",
       "      <td>no</td>\n",
       "      <td>no</td>\n",
       "      <td>no</td>\n",
       "      <td>yes</td>\n",
       "      <td>2</td>\n",
       "      <td>yes</td>\n",
       "      <td>furnished</td>\n",
       "      <td>13300000</td>\n",
       "    </tr>\n",
       "    <tr>\n",
       "      <th>1</th>\n",
       "      <td>8960</td>\n",
       "      <td>4</td>\n",
       "      <td>4</td>\n",
       "      <td>4</td>\n",
       "      <td>yes</td>\n",
       "      <td>no</td>\n",
       "      <td>no</td>\n",
       "      <td>no</td>\n",
       "      <td>yes</td>\n",
       "      <td>3</td>\n",
       "      <td>no</td>\n",
       "      <td>furnished</td>\n",
       "      <td>12250000</td>\n",
       "    </tr>\n",
       "    <tr>\n",
       "      <th>2</th>\n",
       "      <td>9960</td>\n",
       "      <td>3</td>\n",
       "      <td>2</td>\n",
       "      <td>2</td>\n",
       "      <td>yes</td>\n",
       "      <td>no</td>\n",
       "      <td>yes</td>\n",
       "      <td>no</td>\n",
       "      <td>no</td>\n",
       "      <td>2</td>\n",
       "      <td>yes</td>\n",
       "      <td>semi-furnished</td>\n",
       "      <td>12250000</td>\n",
       "    </tr>\n",
       "    <tr>\n",
       "      <th>3</th>\n",
       "      <td>7500</td>\n",
       "      <td>4</td>\n",
       "      <td>2</td>\n",
       "      <td>2</td>\n",
       "      <td>yes</td>\n",
       "      <td>no</td>\n",
       "      <td>yes</td>\n",
       "      <td>no</td>\n",
       "      <td>yes</td>\n",
       "      <td>3</td>\n",
       "      <td>yes</td>\n",
       "      <td>furnished</td>\n",
       "      <td>12215000</td>\n",
       "    </tr>\n",
       "    <tr>\n",
       "      <th>4</th>\n",
       "      <td>7420</td>\n",
       "      <td>4</td>\n",
       "      <td>1</td>\n",
       "      <td>2</td>\n",
       "      <td>yes</td>\n",
       "      <td>yes</td>\n",
       "      <td>yes</td>\n",
       "      <td>no</td>\n",
       "      <td>yes</td>\n",
       "      <td>2</td>\n",
       "      <td>no</td>\n",
       "      <td>furnished</td>\n",
       "      <td>11410000</td>\n",
       "    </tr>\n",
       "  </tbody>\n",
       "</table>\n",
       "</div>"
      ],
      "text/plain": [
       "   area  bedrooms  bathrooms  stories mainroad guestroom basement  \\\n",
       "0  7420         4          2        3      yes        no       no   \n",
       "1  8960         4          4        4      yes        no       no   \n",
       "2  9960         3          2        2      yes        no      yes   \n",
       "3  7500         4          2        2      yes        no      yes   \n",
       "4  7420         4          1        2      yes       yes      yes   \n",
       "\n",
       "  hotwaterheating airconditioning  parking prefarea furnishingstatus     price  \n",
       "0              no             yes        2      yes        furnished  13300000  \n",
       "1              no             yes        3       no        furnished  12250000  \n",
       "2              no              no        2      yes   semi-furnished  12250000  \n",
       "3              no             yes        3      yes        furnished  12215000  \n",
       "4              no             yes        2       no        furnished  11410000  "
      ]
     },
     "execution_count": 3,
     "metadata": {},
     "output_type": "execute_result"
    }
   ],
   "source": [
    "h = h[[i for i in h.columns if i != 'price'] + ['price']] # WE ARE REARRANGING THE COLUMNS\n",
    "h.head()"
   ]
  },
  {
   "cell_type": "code",
   "execution_count": 4,
   "metadata": {},
   "outputs": [
    {
     "data": {
      "text/plain": [
       "(545, 13)"
      ]
     },
     "execution_count": 4,
     "metadata": {},
     "output_type": "execute_result"
    }
   ],
   "source": [
    "h.shape"
   ]
  },
  {
   "cell_type": "code",
   "execution_count": 5,
   "metadata": {},
   "outputs": [
    {
     "data": {
      "text/html": [
       "<div>\n",
       "<style scoped>\n",
       "    .dataframe tbody tr th:only-of-type {\n",
       "        vertical-align: middle;\n",
       "    }\n",
       "\n",
       "    .dataframe tbody tr th {\n",
       "        vertical-align: top;\n",
       "    }\n",
       "\n",
       "    .dataframe thead th {\n",
       "        text-align: right;\n",
       "    }\n",
       "</style>\n",
       "<table border=\"1\" class=\"dataframe\">\n",
       "  <thead>\n",
       "    <tr style=\"text-align: right;\">\n",
       "      <th></th>\n",
       "      <th>area</th>\n",
       "      <th>bedrooms</th>\n",
       "      <th>bathrooms</th>\n",
       "      <th>stories</th>\n",
       "      <th>parking</th>\n",
       "      <th>price</th>\n",
       "    </tr>\n",
       "  </thead>\n",
       "  <tbody>\n",
       "    <tr>\n",
       "      <th>count</th>\n",
       "      <td>545.000000</td>\n",
       "      <td>545.000000</td>\n",
       "      <td>545.000000</td>\n",
       "      <td>545.000000</td>\n",
       "      <td>545.000000</td>\n",
       "      <td>5.450000e+02</td>\n",
       "    </tr>\n",
       "    <tr>\n",
       "      <th>mean</th>\n",
       "      <td>5150.541284</td>\n",
       "      <td>2.965138</td>\n",
       "      <td>1.286239</td>\n",
       "      <td>1.805505</td>\n",
       "      <td>0.693578</td>\n",
       "      <td>4.766729e+06</td>\n",
       "    </tr>\n",
       "    <tr>\n",
       "      <th>std</th>\n",
       "      <td>2170.141023</td>\n",
       "      <td>0.738064</td>\n",
       "      <td>0.502470</td>\n",
       "      <td>0.867492</td>\n",
       "      <td>0.861586</td>\n",
       "      <td>1.870440e+06</td>\n",
       "    </tr>\n",
       "    <tr>\n",
       "      <th>min</th>\n",
       "      <td>1650.000000</td>\n",
       "      <td>1.000000</td>\n",
       "      <td>1.000000</td>\n",
       "      <td>1.000000</td>\n",
       "      <td>0.000000</td>\n",
       "      <td>1.750000e+06</td>\n",
       "    </tr>\n",
       "    <tr>\n",
       "      <th>25%</th>\n",
       "      <td>3600.000000</td>\n",
       "      <td>2.000000</td>\n",
       "      <td>1.000000</td>\n",
       "      <td>1.000000</td>\n",
       "      <td>0.000000</td>\n",
       "      <td>3.430000e+06</td>\n",
       "    </tr>\n",
       "    <tr>\n",
       "      <th>50%</th>\n",
       "      <td>4600.000000</td>\n",
       "      <td>3.000000</td>\n",
       "      <td>1.000000</td>\n",
       "      <td>2.000000</td>\n",
       "      <td>0.000000</td>\n",
       "      <td>4.340000e+06</td>\n",
       "    </tr>\n",
       "    <tr>\n",
       "      <th>75%</th>\n",
       "      <td>6360.000000</td>\n",
       "      <td>3.000000</td>\n",
       "      <td>2.000000</td>\n",
       "      <td>2.000000</td>\n",
       "      <td>1.000000</td>\n",
       "      <td>5.740000e+06</td>\n",
       "    </tr>\n",
       "    <tr>\n",
       "      <th>max</th>\n",
       "      <td>16200.000000</td>\n",
       "      <td>6.000000</td>\n",
       "      <td>4.000000</td>\n",
       "      <td>4.000000</td>\n",
       "      <td>3.000000</td>\n",
       "      <td>1.330000e+07</td>\n",
       "    </tr>\n",
       "  </tbody>\n",
       "</table>\n",
       "</div>"
      ],
      "text/plain": [
       "               area    bedrooms   bathrooms     stories     parking  \\\n",
       "count    545.000000  545.000000  545.000000  545.000000  545.000000   \n",
       "mean    5150.541284    2.965138    1.286239    1.805505    0.693578   \n",
       "std     2170.141023    0.738064    0.502470    0.867492    0.861586   \n",
       "min     1650.000000    1.000000    1.000000    1.000000    0.000000   \n",
       "25%     3600.000000    2.000000    1.000000    1.000000    0.000000   \n",
       "50%     4600.000000    3.000000    1.000000    2.000000    0.000000   \n",
       "75%     6360.000000    3.000000    2.000000    2.000000    1.000000   \n",
       "max    16200.000000    6.000000    4.000000    4.000000    3.000000   \n",
       "\n",
       "              price  \n",
       "count  5.450000e+02  \n",
       "mean   4.766729e+06  \n",
       "std    1.870440e+06  \n",
       "min    1.750000e+06  \n",
       "25%    3.430000e+06  \n",
       "50%    4.340000e+06  \n",
       "75%    5.740000e+06  \n",
       "max    1.330000e+07  "
      ]
     },
     "execution_count": 5,
     "metadata": {},
     "output_type": "execute_result"
    }
   ],
   "source": [
    "h.describe()"
   ]
  },
  {
   "cell_type": "code",
   "execution_count": 6,
   "metadata": {},
   "outputs": [
    {
     "data": {
      "text/html": [
       "<div>\n",
       "<style scoped>\n",
       "    .dataframe tbody tr th:only-of-type {\n",
       "        vertical-align: middle;\n",
       "    }\n",
       "\n",
       "    .dataframe tbody tr th {\n",
       "        vertical-align: top;\n",
       "    }\n",
       "\n",
       "    .dataframe thead th {\n",
       "        text-align: right;\n",
       "    }\n",
       "</style>\n",
       "<table border=\"1\" class=\"dataframe\">\n",
       "  <thead>\n",
       "    <tr style=\"text-align: right;\">\n",
       "      <th></th>\n",
       "      <th>area</th>\n",
       "      <th>bedrooms</th>\n",
       "      <th>bathrooms</th>\n",
       "      <th>stories</th>\n",
       "      <th>parking</th>\n",
       "      <th>price</th>\n",
       "    </tr>\n",
       "  </thead>\n",
       "  <tbody>\n",
       "    <tr>\n",
       "      <th>count</th>\n",
       "      <td>545.00</td>\n",
       "      <td>545.00</td>\n",
       "      <td>545.00</td>\n",
       "      <td>545.00</td>\n",
       "      <td>545.00</td>\n",
       "      <td>545.00</td>\n",
       "    </tr>\n",
       "    <tr>\n",
       "      <th>mean</th>\n",
       "      <td>5150.54</td>\n",
       "      <td>2.97</td>\n",
       "      <td>1.29</td>\n",
       "      <td>1.81</td>\n",
       "      <td>0.69</td>\n",
       "      <td>4766729.25</td>\n",
       "    </tr>\n",
       "    <tr>\n",
       "      <th>std</th>\n",
       "      <td>2170.14</td>\n",
       "      <td>0.74</td>\n",
       "      <td>0.50</td>\n",
       "      <td>0.87</td>\n",
       "      <td>0.86</td>\n",
       "      <td>1870439.62</td>\n",
       "    </tr>\n",
       "    <tr>\n",
       "      <th>min</th>\n",
       "      <td>1650.00</td>\n",
       "      <td>1.00</td>\n",
       "      <td>1.00</td>\n",
       "      <td>1.00</td>\n",
       "      <td>0.00</td>\n",
       "      <td>1750000.00</td>\n",
       "    </tr>\n",
       "    <tr>\n",
       "      <th>25%</th>\n",
       "      <td>3600.00</td>\n",
       "      <td>2.00</td>\n",
       "      <td>1.00</td>\n",
       "      <td>1.00</td>\n",
       "      <td>0.00</td>\n",
       "      <td>3430000.00</td>\n",
       "    </tr>\n",
       "    <tr>\n",
       "      <th>50%</th>\n",
       "      <td>4600.00</td>\n",
       "      <td>3.00</td>\n",
       "      <td>1.00</td>\n",
       "      <td>2.00</td>\n",
       "      <td>0.00</td>\n",
       "      <td>4340000.00</td>\n",
       "    </tr>\n",
       "    <tr>\n",
       "      <th>75%</th>\n",
       "      <td>6360.00</td>\n",
       "      <td>3.00</td>\n",
       "      <td>2.00</td>\n",
       "      <td>2.00</td>\n",
       "      <td>1.00</td>\n",
       "      <td>5740000.00</td>\n",
       "    </tr>\n",
       "    <tr>\n",
       "      <th>max</th>\n",
       "      <td>16200.00</td>\n",
       "      <td>6.00</td>\n",
       "      <td>4.00</td>\n",
       "      <td>4.00</td>\n",
       "      <td>3.00</td>\n",
       "      <td>13300000.00</td>\n",
       "    </tr>\n",
       "  </tbody>\n",
       "</table>\n",
       "</div>"
      ],
      "text/plain": [
       "           area  bedrooms  bathrooms  stories  parking        price\n",
       "count    545.00    545.00     545.00   545.00   545.00       545.00\n",
       "mean    5150.54      2.97       1.29     1.81     0.69   4766729.25\n",
       "std     2170.14      0.74       0.50     0.87     0.86   1870439.62\n",
       "min     1650.00      1.00       1.00     1.00     0.00   1750000.00\n",
       "25%     3600.00      2.00       1.00     1.00     0.00   3430000.00\n",
       "50%     4600.00      3.00       1.00     2.00     0.00   4340000.00\n",
       "75%     6360.00      3.00       2.00     2.00     1.00   5740000.00\n",
       "max    16200.00      6.00       4.00     4.00     3.00  13300000.00"
      ]
     },
     "execution_count": 6,
     "metadata": {},
     "output_type": "execute_result"
    }
   ],
   "source": [
    "round(h.describe(),2)    # So here we have used the round function to make data in more readable format"
   ]
  },
  {
   "cell_type": "code",
   "execution_count": 7,
   "metadata": {},
   "outputs": [],
   "source": [
    "# describe method tells about the statistics value of the data and by looking to it we can make some conclusion ,\n",
    "# here we can see that the count of the given statistical columns are same so we can say that there is no missing values in the given data."
   ]
  },
  {
   "cell_type": "code",
   "execution_count": 8,
   "metadata": {},
   "outputs": [
    {
     "data": {
      "text/plain": [
       "area                0\n",
       "bedrooms            0\n",
       "bathrooms           0\n",
       "stories             0\n",
       "mainroad            0\n",
       "guestroom           0\n",
       "basement            0\n",
       "hotwaterheating     0\n",
       "airconditioning     0\n",
       "parking             0\n",
       "prefarea            0\n",
       "furnishingstatus    0\n",
       "price               0\n",
       "dtype: int64"
      ]
     },
     "execution_count": 8,
     "metadata": {},
     "output_type": "execute_result"
    }
   ],
   "source": [
    "h.isnull().sum()   # it will tells us about the missing values in the data"
   ]
  },
  {
   "cell_type": "code",
   "execution_count": 9,
   "metadata": {},
   "outputs": [],
   "source": [
    "# So after seeing the values we can say that there is no missing values in the data"
   ]
  },
  {
   "cell_type": "code",
   "execution_count": 10,
   "metadata": {},
   "outputs": [
    {
     "data": {
      "text/plain": [
       "(545, 13)"
      ]
     },
     "execution_count": 10,
     "metadata": {},
     "output_type": "execute_result"
    }
   ],
   "source": [
    "h.shape  # it tells about how many rows and columns are present"
   ]
  },
  {
   "cell_type": "code",
   "execution_count": 11,
   "metadata": {},
   "outputs": [
    {
     "data": {
      "text/plain": [
       "Index(['area', 'bedrooms', 'bathrooms', 'stories', 'mainroad', 'guestroom',\n",
       "       'basement', 'hotwaterheating', 'airconditioning', 'parking', 'prefarea',\n",
       "       'furnishingstatus', 'price'],\n",
       "      dtype='object')"
      ]
     },
     "execution_count": 11,
     "metadata": {},
     "output_type": "execute_result"
    }
   ],
   "source": [
    "h.columns   # IT GIVES COLUMN NAMES"
   ]
  },
  {
   "cell_type": "code",
   "execution_count": 87,
   "metadata": {},
   "outputs": [],
   "source": [
    "#h.drop(['basement', 'hotwaterheating', 'airconditioning','hotwaterheating'],axis=1,inplace=True)\n",
    "# we have chechked by droping this columns also but there was no significant change as it was lowering the r squared value "
   ]
  },
  {
   "cell_type": "code",
   "execution_count": 13,
   "metadata": {},
   "outputs": [],
   "source": [
    "h['basement'].replace(['yes','no'],[0,1],inplace=True)"
   ]
  },
  {
   "cell_type": "code",
   "execution_count": 14,
   "metadata": {},
   "outputs": [],
   "source": [
    "h['hotwaterheating'].replace(['yes','no'],[0,1],inplace=True)"
   ]
  },
  {
   "cell_type": "code",
   "execution_count": 15,
   "metadata": {},
   "outputs": [],
   "source": [
    "h['airconditioning'].replace(['yes','no'],[0,1],inplace=True)"
   ]
  },
  {
   "cell_type": "code",
   "execution_count": null,
   "metadata": {},
   "outputs": [],
   "source": []
  },
  {
   "cell_type": "code",
   "execution_count": 16,
   "metadata": {},
   "outputs": [],
   "source": [
    "h['mainroad'].replace(['yes','no'],[0,1],inplace=True)"
   ]
  },
  {
   "cell_type": "code",
   "execution_count": 17,
   "metadata": {},
   "outputs": [],
   "source": [
    "h['guestroom'].replace(['yes','no'],[0,1],inplace=True)"
   ]
  },
  {
   "cell_type": "code",
   "execution_count": 18,
   "metadata": {},
   "outputs": [],
   "source": [
    "h['prefarea'].replace(['yes','no'],[0,1],inplace=True)"
   ]
  },
  {
   "cell_type": "code",
   "execution_count": 19,
   "metadata": {},
   "outputs": [],
   "source": [
    "h['furnishingstatus'].replace(['furnished','semi-furnished','unfurnished'],[0,1,2],inplace=True)"
   ]
  },
  {
   "cell_type": "code",
   "execution_count": 20,
   "metadata": {
    "collapsed": true
   },
   "outputs": [
    {
     "name": "stdout",
     "output_type": "stream",
     "text": [
      "{'area': array([ 7420,  8960,  9960,  7500,  8580, 16200,  8100,  5750, 13200,\n",
      "        6000,  6550,  3500,  7800,  6600,  8500,  4600,  6420,  4320,\n",
      "        7155,  8050,  4560,  8800,  6540,  8875,  7950,  5500,  7475,\n",
      "        7000,  4880,  5960,  6840,  7482,  9000,  6360,  6480,  4300,\n",
      "        7440,  6325,  5150, 11440,  7680,  8880,  6240, 11175,  7700,\n",
      "       12090,  4000,  5020,  4040,  4260,  6500,  5700, 10500,  3760,\n",
      "        8250,  6670,  3960,  7410,  5000,  6750,  4800,  7200,  4100,\n",
      "        6400,  6350,  4500,  5450,  3240,  6615,  8372,  9620,  6800,\n",
      "        8000,  6900,  3700,  7020,  7231,  6254,  7320,  6525, 15600,\n",
      "        7160, 11460,  5828,  5200,  5400,  4640,  5800,  6660,  4700,\n",
      "        5136,  4400,  3300,  3650,  6100,  2817,  7980,  3150,  6210,\n",
      "        6825,  6710,  6450, 10269,  8400,  5300,  3800,  9800,  8520,\n",
      "        6050,  7085,  3180,  3410,  3000, 11410,  5720,  3540,  7600,\n",
      "       10700,  8150,  4410,  7686,  2800,  5948,  4200,  4520,  4095,\n",
      "        4120,  4770,  6300,  2970,  6720,  4646, 12900,  3420,  4995,\n",
      "        4350,  4160,  6040,  6862,  4815,  9166,  6321, 10240,  6440,\n",
      "        5170,  3630,  9667,  3745,  3880,  5680,  2870,  5010,  4510,\n",
      "        3840,  3640,  2550,  5320,  5360,  3520,  4990,  3510,  3450,\n",
      "        9860,  5885,  3162,  3750,  3968,  4900,  2880,  4920,  4950,\n",
      "        3900,  1905,  4075,  4032, 10360,  3400,  2175,  4360,  7770,\n",
      "        6650,  2787,  5040,  5850,  2610,  2953,  2747,  2325,  4079,\n",
      "        2145,  4840,  4080,  4046,  4632,  5985,  6060,  3600,  3680,\n",
      "        5600,  5900,  4992,  4340,  3460,  4050,  7260,  3290,  3816,\n",
      "        8080,  3780,  7152,  3850,  2015,  2176,  3350,  4820,  5830,\n",
      "        2856,  2520,  6930,  3480,  6020,  3584,  3120,  5640,  4280,\n",
      "        3570,  4130,  2850,  2275,  4240,  2135,  3036,  3990,  7424,\n",
      "        7350,  3512,  9500,  5880, 12944,  3060,  3185,  1950,  4785,\n",
      "        4960,  4750,  3720,  3100,  2700,  4775,  2500,  3792,  3930,\n",
      "        4370,  2684,  3986,  1650,  3069,  5495,  2398,  2160,  3090,\n",
      "        2835,  5076,  4352,  3660,  3040,  2640,  2650,  3934,  2000,\n",
      "        2430,  2910,  3210,  3635,  2475,  3264,  1836,  3970,  2400,\n",
      "        3360,  1700,  3649,  2990,  3620], dtype=int64)}\n",
      "{'bedrooms': array([4, 3, 5, 2, 6, 1], dtype=int64)}\n",
      "{'bathrooms': array([2, 4, 1, 3], dtype=int64)}\n",
      "{'stories': array([3, 4, 2, 1], dtype=int64)}\n",
      "{'mainroad': array([0, 1], dtype=int64)}\n",
      "{'guestroom': array([1, 0], dtype=int64)}\n",
      "{'basement': array([1, 0], dtype=int64)}\n",
      "{'hotwaterheating': array([1, 0], dtype=int64)}\n",
      "{'airconditioning': array([0, 1], dtype=int64)}\n",
      "{'parking': array([2, 3, 0, 1], dtype=int64)}\n",
      "{'prefarea': array([0, 1], dtype=int64)}\n",
      "{'furnishingstatus': array([0, 1, 2], dtype=int64)}\n",
      "{'price': array([13300000, 12250000, 12215000, 11410000, 10850000, 10150000,\n",
      "        9870000,  9800000,  9681000,  9310000,  9240000,  9100000,\n",
      "        8960000,  8890000,  8855000,  8750000,  8680000,  8645000,\n",
      "        8575000,  8540000,  8463000,  8400000,  8295000,  8190000,\n",
      "        8120000,  8080940,  8043000,  7980000,  7962500,  7910000,\n",
      "        7875000,  7840000,  7700000,  7560000,  7525000,  7490000,\n",
      "        7455000,  7420000,  7350000,  7343000,  7245000,  7210000,\n",
      "        7140000,  7070000,  7035000,  7000000,  6930000,  6895000,\n",
      "        6860000,  6790000,  6755000,  6720000,  6685000,  6650000,\n",
      "        6629000,  6615000,  6580000,  6510000,  6475000,  6440000,\n",
      "        6419000,  6405000,  6300000,  6293000,  6265000,  6230000,\n",
      "        6195000,  6160000,  6125000,  6107500,  6090000,  6083000,\n",
      "        6020000,  5950000,  5943000,  5880000,  5873000,  5866000,\n",
      "        5810000,  5803000,  5775000,  5740000,  5652500,  5600000,\n",
      "        5565000,  5530000,  5523000,  5495000,  5460000,  5425000,\n",
      "        5390000,  5383000,  5320000,  5285000,  5250000,  5243000,\n",
      "        5229000,  5215000,  5145000,  5110000,  5075000,  5040000,\n",
      "        5033000,  5005000,  4970000,  4956000,  4935000,  4907000,\n",
      "        4900000,  4893000,  4865000,  4830000,  4795000,  4767000,\n",
      "        4760000,  4753000,  4690000,  4655000,  4620000,  4613000,\n",
      "        4585000,  4550000,  4543000,  4515000,  4480000,  4473000,\n",
      "        4445000,  4410000,  4403000,  4382000,  4375000,  4340000,\n",
      "        4319000,  4305000,  4277000,  4270000,  4235000,  4200000,\n",
      "        4193000,  4165000,  4130000,  4123000,  4098500,  4095000,\n",
      "        4060000,  4025000,  4007500,  3990000,  3920000,  3885000,\n",
      "        3850000,  3836000,  3815000,  3780000,  3773000,  3745000,\n",
      "        3710000,  3703000,  3675000,  3640000,  3633000,  3605000,\n",
      "        3570000,  3535000,  3500000,  3493000,  3465000,  3430000,\n",
      "        3423000,  3395000,  3360000,  3353000,  3332000,  3325000,\n",
      "        3290000,  3255000,  3234000,  3220000,  3150000,  3143000,\n",
      "        3129000,  3118850,  3115000,  3087000,  3080000,  3045000,\n",
      "        3010000,  3003000,  2975000,  2961000,  2940000,  2870000,\n",
      "        2852500,  2835000,  2800000,  2730000,  2695000,  2660000,\n",
      "        2653000,  2604000,  2590000,  2520000,  2485000,  2450000,\n",
      "        2408000,  2380000,  2345000,  2310000,  2275000,  2240000,\n",
      "        2233000,  2135000,  2100000,  1960000,  1890000,  1855000,\n",
      "        1820000,  1767150,  1750000], dtype=int64)}\n"
     ]
    }
   ],
   "source": [
    "for i in h.columns:        # IT IS TO CHECK ANY UNIQUE VALUES PRESENT IN THE DAY THAT WILL CAUSE PROBLEM\n",
    "    print({i:h[i].unique()})"
   ]
  },
  {
   "cell_type": "code",
   "execution_count": 21,
   "metadata": {},
   "outputs": [
    {
     "data": {
      "text/plain": [
       "<matplotlib.axes._subplots.AxesSubplot at 0x1f0d0bddcc8>"
      ]
     },
     "execution_count": 21,
     "metadata": {},
     "output_type": "execute_result"
    },
    {
     "data": {
      "image/png": "[encoded data removed]",
      "text/plain": [
       "<Figure size 432x288 with 1 Axes>"
      ]
     },
     "metadata": {
      "needs_background": "light"
     },
     "output_type": "display_data"
    }
   ],
   "source": [
    "# assump1: there should be no outliers in data\n",
    "h.boxplot('area')"
   ]
  },
  {
   "cell_type": "code",
   "execution_count": 22,
   "metadata": {
    "scrolled": true
   },
   "outputs": [
    {
     "data": {
      "text/plain": [
       "<matplotlib.axes._subplots.AxesSubplot at 0x1f0d1342488>"
      ]
     },
     "execution_count": 22,
     "metadata": {},
     "output_type": "execute_result"
    },
    {
     "data": {
      "image/png": "[encoded data removed]",
      "text/plain": [
       "<Figure size 432x288 with 1 Axes>"
      ]
     },
     "metadata": {
      "needs_background": "light"
     },
     "output_type": "display_data"
    }
   ],
   "source": [
    "h.boxplot('price')"
   ]
  },
  {
   "cell_type": "code",
   "execution_count": 23,
   "metadata": {},
   "outputs": [],
   "source": [
    "# AFTER SEEING THE BOXPLOT WE CAN SEE THERE ARE OUTLIERS PRESENT IN THE DATA "
   ]
  },
  {
   "cell_type": "code",
   "execution_count": 24,
   "metadata": {},
   "outputs": [
    {
     "data": {
      "image/png": "[encoded data removed]",
      "text/plain": [
       "<Figure size 180x180 with 1 Axes>"
      ]
     },
     "metadata": {
      "needs_background": "light"
     },
     "output_type": "display_data"
    }
   ],
   "source": [
    "#assump 2: asump of linearity : every ind var should have linear relnshp with the dep var.\n",
    "sb.pairplot(h,x_vars=['area'],\n",
    "           y_vars='price',kind='reg')\n",
    "mp.show()"
   ]
  },
  {
   "cell_type": "code",
   "execution_count": 25,
   "metadata": {},
   "outputs": [],
   "source": [
    "# After observing we can say that area have positive relationship "
   ]
  },
  {
   "cell_type": "code",
   "execution_count": 26,
   "metadata": {},
   "outputs": [],
   "source": [
    "# create X and Y\n",
    "x=h.loc[:,['area', 'bedrooms', 'bathrooms', 'stories', 'parking','mainroad','guestroom','furnishingstatus','basement','prefarea','hotwaterheating', 'airconditioning']]\n",
    "y=h.loc[:,'price']"
   ]
  },
  {
   "cell_type": "code",
   "execution_count": null,
   "metadata": {},
   "outputs": [],
   "source": []
  },
  {
   "cell_type": "code",
   "execution_count": 27,
   "metadata": {},
   "outputs": [
    {
     "name": "stdout",
     "output_type": "stream",
     "text": [
      "(545, 12)\n"
     ]
    }
   ],
   "source": [
    "print(x.shape)"
   ]
  },
  {
   "cell_type": "code",
   "execution_count": 28,
   "metadata": {},
   "outputs": [
    {
     "name": "stdout",
     "output_type": "stream",
     "text": [
      "(545,)\n"
     ]
    }
   ],
   "source": [
    "print(y.shape)"
   ]
  },
  {
   "cell_type": "code",
   "execution_count": 29,
   "metadata": {},
   "outputs": [],
   "source": [
    "import warnings\n",
    "warnings.filterwarnings('ignore')"
   ]
  },
  {
   "cell_type": "code",
   "execution_count": 30,
   "metadata": {},
   "outputs": [
    {
     "data": {
      "text/plain": [
       "<matplotlib.axes._subplots.AxesSubplot at 0x1f0d13f96c8>"
      ]
     },
     "execution_count": 30,
     "metadata": {},
     "output_type": "execute_result"
    },
    {
     "data": {
      "image/png": "[encoded data removed]",
      "text/plain": [
       "<Figure size 432x288 with 1 Axes>"
      ]
     },
     "metadata": {
      "needs_background": "light"
     },
     "output_type": "display_data"
    }
   ],
   "source": [
    "# assump of normality : the dependent var should follow an approx N.D\n",
    "sb.distplot(y)"
   ]
  },
  {
   "cell_type": "code",
   "execution_count": 31,
   "metadata": {},
   "outputs": [],
   "source": [
    "# log tranformation\n",
    "import numpy as np\n",
    "y_log=np.log(y)"
   ]
  },
  {
   "cell_type": "code",
   "execution_count": 32,
   "metadata": {},
   "outputs": [
    {
     "data": {
      "text/plain": [
       "<matplotlib.axes._subplots.AxesSubplot at 0x1f0d152f648>"
      ]
     },
     "execution_count": 32,
     "metadata": {},
     "output_type": "execute_result"
    },
    {
     "data": {
      "image/png": "[encoded data removed]",
      "text/plain": [
       "<Figure size 432x288 with 1 Axes>"
      ]
     },
     "metadata": {
      "needs_background": "light"
     },
     "output_type": "display_data"
    }
   ],
   "source": [
    "sb.distplot(y_log)"
   ]
  },
  {
   "cell_type": "code",
   "execution_count": 33,
   "metadata": {},
   "outputs": [
    {
     "name": "stdout",
     "output_type": "stream",
     "text": [
      "                      area  bedrooms  bathrooms   stories   parking  mainroad  \\\n",
      "area              1.000000  0.151858   0.193820  0.083996  0.352980 -0.288874   \n",
      "bedrooms          0.151858  1.000000   0.373930  0.408564  0.139270  0.012033   \n",
      "bathrooms         0.193820  0.373930   1.000000  0.326165  0.177496 -0.042398   \n",
      "stories           0.083996  0.408564   0.326165  1.000000  0.045547 -0.121706   \n",
      "parking           0.352980  0.139270   0.177496  0.045547  1.000000 -0.204433   \n",
      "mainroad         -0.288874  0.012033  -0.042398 -0.121706 -0.204433  1.000000   \n",
      "guestroom        -0.140297 -0.080549  -0.126469 -0.043538 -0.037466  0.092337   \n",
      "furnishingstatus -0.171445 -0.123244  -0.143559 -0.104672 -0.177539  0.156726   \n",
      "basement         -0.047417 -0.097312  -0.102106  0.172394 -0.051497  0.044002   \n",
      "prefarea         -0.234779 -0.079023  -0.063472 -0.044425 -0.091627  0.199876   \n",
      "hotwaterheating   0.009229 -0.046049  -0.067159 -0.018847 -0.067864 -0.011781   \n",
      "airconditioning  -0.222393 -0.160603  -0.186915 -0.293602 -0.159173  0.105423   \n",
      "\n",
      "                  guestroom  furnishingstatus  basement  prefarea  \\\n",
      "area              -0.140297         -0.171445 -0.047417 -0.234779   \n",
      "bedrooms          -0.080549         -0.123244 -0.097312 -0.079023   \n",
      "bathrooms         -0.126469         -0.143559 -0.102106 -0.063472   \n",
      "stories           -0.043538         -0.104672  0.172394 -0.044425   \n",
      "parking           -0.037466         -0.177539 -0.051497 -0.091627   \n",
      "mainroad           0.092337          0.156726  0.044002  0.199876   \n",
      "guestroom          1.000000          0.118328  0.372066  0.160897   \n",
      "furnishingstatus   0.118328          1.000000  0.112831  0.107686   \n",
      "basement           0.372066          0.112831  1.000000  0.228083   \n",
      "prefarea           0.160897          0.107686  0.228083  1.000000   \n",
      "hotwaterheating   -0.010308          0.031628  0.004385 -0.059411   \n",
      "airconditioning    0.138179          0.150477  0.047341  0.117382   \n",
      "\n",
      "                  hotwaterheating  airconditioning  \n",
      "area                     0.009229        -0.222393  \n",
      "bedrooms                -0.046049        -0.160603  \n",
      "bathrooms               -0.067159        -0.186915  \n",
      "stories                 -0.018847        -0.293602  \n",
      "parking                 -0.067864        -0.159173  \n",
      "mainroad                -0.011781         0.105423  \n",
      "guestroom               -0.010308         0.138179  \n",
      "furnishingstatus         0.031628         0.150477  \n",
      "basement                 0.004385         0.047341  \n",
      "prefarea                -0.059411         0.117382  \n",
      "hotwaterheating          1.000000        -0.130023  \n",
      "airconditioning         -0.130023         1.000000  \n"
     ]
    },
    {
     "data": {
      "image/png": "[encoded data removed]",
      "text/plain": [
       "<Figure size 432x288 with 2 Axes>"
      ]
     },
     "metadata": {
      "needs_background": "light"
     },
     "output_type": "display_data"
    }
   ],
   "source": [
    "# assumption of no multicollinerarity: there should be no multicollinearity betn the I.V\n",
    "#MULTICOLLINEARITY IS THE RELNSHIP AMONGST THE I.V\n",
    "corr_df=x.corr(method='pearson')\n",
    "print(corr_df)\n",
    "sb.heatmap(corr_df,vmax=1.0,vmin=-1.0,annot=True)\n",
    "mp.show()"
   ]
  },
  {
   "cell_type": "code",
   "execution_count": null,
   "metadata": {},
   "outputs": [],
   "source": [
    "# SO AFTER OBSERVING THE HEAT MAP WE CANNOT SEE MULTICOLLINEARITY BETWEEN THE IV"
   ]
  },
  {
   "cell_type": "code",
   "execution_count": 34,
   "metadata": {},
   "outputs": [
    {
     "data": {
      "text/html": [
       "<div>\n",
       "<style scoped>\n",
       "    .dataframe tbody tr th:only-of-type {\n",
       "        vertical-align: middle;\n",
       "    }\n",
       "\n",
       "    .dataframe tbody tr th {\n",
       "        vertical-align: top;\n",
       "    }\n",
       "\n",
       "    .dataframe thead th {\n",
       "        text-align: right;\n",
       "    }\n",
       "</style>\n",
       "<table border=\"1\" class=\"dataframe\">\n",
       "  <thead>\n",
       "    <tr style=\"text-align: right;\">\n",
       "      <th></th>\n",
       "      <th>features</th>\n",
       "      <th>VIF Factor</th>\n",
       "    </tr>\n",
       "  </thead>\n",
       "  <tbody>\n",
       "    <tr>\n",
       "      <th>0</th>\n",
       "      <td>area</td>\n",
       "      <td>7.87</td>\n",
       "    </tr>\n",
       "    <tr>\n",
       "      <th>1</th>\n",
       "      <td>bedrooms</td>\n",
       "      <td>20.21</td>\n",
       "    </tr>\n",
       "    <tr>\n",
       "      <th>2</th>\n",
       "      <td>bathrooms</td>\n",
       "      <td>9.40</td>\n",
       "    </tr>\n",
       "    <tr>\n",
       "      <th>3</th>\n",
       "      <td>stories</td>\n",
       "      <td>7.79</td>\n",
       "    </tr>\n",
       "    <tr>\n",
       "      <th>4</th>\n",
       "      <td>parking</td>\n",
       "      <td>2.00</td>\n",
       "    </tr>\n",
       "    <tr>\n",
       "      <th>5</th>\n",
       "      <td>mainroad</td>\n",
       "      <td>1.36</td>\n",
       "    </tr>\n",
       "    <tr>\n",
       "      <th>6</th>\n",
       "      <td>guestroom</td>\n",
       "      <td>6.46</td>\n",
       "    </tr>\n",
       "    <tr>\n",
       "      <th>7</th>\n",
       "      <td>furnishingstatus</td>\n",
       "      <td>3.16</td>\n",
       "    </tr>\n",
       "    <tr>\n",
       "      <th>8</th>\n",
       "      <td>basement</td>\n",
       "      <td>3.77</td>\n",
       "    </tr>\n",
       "    <tr>\n",
       "      <th>9</th>\n",
       "      <td>prefarea</td>\n",
       "      <td>4.56</td>\n",
       "    </tr>\n",
       "    <tr>\n",
       "      <th>10</th>\n",
       "      <td>hotwaterheating</td>\n",
       "      <td>13.73</td>\n",
       "    </tr>\n",
       "    <tr>\n",
       "      <th>11</th>\n",
       "      <td>airconditioning</td>\n",
       "      <td>3.33</td>\n",
       "    </tr>\n",
       "  </tbody>\n",
       "</table>\n",
       "</div>"
      ],
      "text/plain": [
       "            features  VIF Factor\n",
       "0               area        7.87\n",
       "1           bedrooms       20.21\n",
       "2          bathrooms        9.40\n",
       "3            stories        7.79\n",
       "4            parking        2.00\n",
       "5           mainroad        1.36\n",
       "6          guestroom        6.46\n",
       "7   furnishingstatus        3.16\n",
       "8           basement        3.77\n",
       "9           prefarea        4.56\n",
       "10   hotwaterheating       13.73\n",
       "11   airconditioning        3.33"
      ]
     },
     "execution_count": 34,
     "metadata": {},
     "output_type": "execute_result"
    }
   ],
   "source": [
    "from statsmodels.stats.outliers_influence import variance_inflation_factor as vif\n",
    "\n",
    "vif_df = pd.DataFrame()\n",
    "vif_df[\"features\"] = x.columns\n",
    "vif_df[\"VIF Factor\"] = [vif(x.values, i) for i in range(x.shape[1])]\n",
    "vif_df.round(2)"
   ]
  },
  {
   "cell_type": "code",
   "execution_count": null,
   "metadata": {},
   "outputs": [],
   "source": [
    "# VIF FACTOR ALSO TELLS US ABOUT THE MULTICOLLINEARITY AND AS WE CAN SEE BEDROOM AND HOTWATERHEATING SHOWING MULTICOLLINEARITY \n",
    "# BCOZ ITS VALUE IS GREATER THAN 10 "
   ]
  },
  {
   "cell_type": "code",
   "execution_count": 35,
   "metadata": {},
   "outputs": [],
   "source": [
    "#x.drop('bedrooms',axis=1,inplace=True) # IDEALLY WE HAVE TO DROP IT BUT SINCE IT IS AN IMPORTANT FACTOR WE WON'T DO IT"
   ]
  },
  {
   "cell_type": "code",
   "execution_count": 36,
   "metadata": {},
   "outputs": [],
   "source": [
    "from sklearn.model_selection import train_test_split # HERE WE SPLITING THE DATA INTO TRAINING AND TESTING \n",
    "#split the data into test and train\n",
    "X_train,X_test,Y_train,Y_test=train_test_split(x,y_log,test_size=0.2,random_state=10)"
   ]
  },
  {
   "cell_type": "code",
   "execution_count": 37,
   "metadata": {},
   "outputs": [
    {
     "name": "stdout",
     "output_type": "stream",
     "text": [
      "(436, 12)\n",
      "(109, 12)\n",
      "(436,)\n",
      "(109,)\n"
     ]
    }
   ],
   "source": [
    "print(X_train.shape)\n",
    "print(X_test.shape)\n",
    "print(Y_train.shape)\n",
    "print(Y_test.shape)"
   ]
  },
  {
   "cell_type": "code",
   "execution_count": 38,
   "metadata": {},
   "outputs": [],
   "source": [
    "np.set_printoptions(suppress=True)"
   ]
  },
  {
   "cell_type": "code",
   "execution_count": 88,
   "metadata": {},
   "outputs": [
    {
     "name": "stdout",
     "output_type": "stream",
     "text": [
      "15.313213386673368\n",
      "[ 0.1114707   0.03252289  0.0760641   0.07788846  0.037744   -0.04098259\n",
      " -0.02365058 -0.04514564 -0.05022553 -0.05427696 -0.03507395 -0.08200198]\n"
     ]
    }
   ],
   "source": [
    "from sklearn.linear_model import LinearRegression   # HERE WE ARE implementing linear regression              \n",
    "# create a model object\n",
    "lm=LinearRegression()\n",
    "#train the model object\n",
    "lm.fit(X_train,Y_train)\n",
    "\n",
    "#print intercept and coefficients    # USING THIS VALUES WE CAN BUILT THE BEST FIT LINE EQN\n",
    "print(lm.intercept_) \n",
    "print(lm.coef_) "
   ]
  },
  {
   "cell_type": "code",
   "execution_count": 40,
   "metadata": {},
   "outputs": [
    {
     "name": "stdout",
     "output_type": "stream",
     "text": [
      "[('area', 5.1412836925855226e-05), ('bedrooms', 0.04410562361401127), ('bathrooms', 0.15151957504426755), ('stories', 0.08986823130593814), ('parking', 0.04384783809893482), ('mainroad', -0.11765966119742848), ('guestroom', -0.0618320072275601), ('furnishingstatus', -0.05934954010161108), ('basement', -0.10526953931280031), ('prefarea', -0.12803803209650844), ('hotwaterheating', -0.16765231315507745), ('airconditioning', -0.17644208555808963)]\n"
     ]
    }
   ],
   "source": [
    "#pair the feature name with the coefficients  #HERE WE ARE ARE PAIRING THE COLUMN NAME WITH THERE COEFFICIENT VALUE\n",
    "print(list(zip(x.columns,lm.coef_)))"
   ]
  },
  {
   "cell_type": "code",
   "execution_count": 41,
   "metadata": {},
   "outputs": [
    {
     "name": "stdout",
     "output_type": "stream",
     "text": [
      "[14.85800239 15.08051123 15.55235887 15.13544655 15.64459551 15.76789782\n",
      " 15.0756166  14.924986   15.37643647 14.92977593 15.3713094  14.74896376\n",
      " 15.20996559 15.26749366 15.67738137 14.8603549  15.80050099 15.64285981\n",
      " 15.40582778 15.24877957 14.86636635 14.71168945 15.59028005 15.37817156\n",
      " 15.76983292 15.6056672  15.06420086 15.09659163 15.07277668 15.12309011\n",
      " 15.2759988  15.40527032 15.44416188 15.46695783 15.86603572 15.40284135\n",
      " 15.69487297 14.81959183 15.47700676 15.39124368 15.35454393 15.45836926\n",
      " 14.93710242 15.62443733 15.52525111 15.88749551 16.03784997 15.53555905\n",
      " 15.03218551 15.29993326 15.02729966 15.5829507  15.14438302 15.315268\n",
      " 14.92394873 15.4627464  15.43737833 15.0926982  15.15297046 15.22740568\n",
      " 15.223272   15.29112022 15.36886804 15.13600552 15.21315707 15.72880544\n",
      " 15.00665882 14.86779932 14.84323058 15.76920972 15.1768496  15.65236897\n",
      " 15.64157053 15.12542248 14.91213494 15.02416385 14.95733793 15.36535323\n",
      " 16.23324032 15.33175312 15.80485678 15.34413026 15.13442006 14.88615267\n",
      " 15.25764345 14.87449415 15.38933114 16.37945612 15.52830874 15.00570497\n",
      " 15.52082866 14.978166   15.63139164 15.55602063 15.12733442 15.09898698\n",
      " 15.00915162 15.66408984 15.27576922 15.30501812 15.43247332 15.15515194\n",
      " 15.29012349 15.19047173 15.69890426 15.1705212  15.16081948 15.00865314\n",
      " 15.49643673]\n"
     ]
    }
   ],
   "source": [
    "# predict using the model  \n",
    "Y_pred=lm.predict(X_test)\n",
    "print(Y_pred)"
   ]
  },
  {
   "cell_type": "code",
   "execution_count": 42,
   "metadata": {},
   "outputs": [
    {
     "data": {
      "text/html": [
       "<div>\n",
       "<style scoped>\n",
       "    .dataframe tbody tr th:only-of-type {\n",
       "        vertical-align: middle;\n",
       "    }\n",
       "\n",
       "    .dataframe tbody tr th {\n",
       "        vertical-align: top;\n",
       "    }\n",
       "\n",
       "    .dataframe thead th {\n",
       "        text-align: right;\n",
       "    }\n",
       "</style>\n",
       "<table border=\"1\" class=\"dataframe\">\n",
       "  <thead>\n",
       "    <tr style=\"text-align: right;\">\n",
       "      <th></th>\n",
       "      <th>area</th>\n",
       "      <th>bedrooms</th>\n",
       "      <th>bathrooms</th>\n",
       "      <th>stories</th>\n",
       "      <th>parking</th>\n",
       "      <th>mainroad</th>\n",
       "      <th>guestroom</th>\n",
       "      <th>furnishingstatus</th>\n",
       "      <th>basement</th>\n",
       "      <th>prefarea</th>\n",
       "      <th>hotwaterheating</th>\n",
       "      <th>airconditioning</th>\n",
       "      <th>ACTUAL Price</th>\n",
       "      <th>PREDICTED Price</th>\n",
       "    </tr>\n",
       "  </thead>\n",
       "  <tbody>\n",
       "    <tr>\n",
       "      <th>0</th>\n",
       "      <td>3150</td>\n",
       "      <td>3</td>\n",
       "      <td>1</td>\n",
       "      <td>2</td>\n",
       "      <td>0</td>\n",
       "      <td>1</td>\n",
       "      <td>1</td>\n",
       "      <td>2</td>\n",
       "      <td>1</td>\n",
       "      <td>1</td>\n",
       "      <td>1</td>\n",
       "      <td>1</td>\n",
       "      <td>14.893920</td>\n",
       "      <td>14.858002</td>\n",
       "    </tr>\n",
       "    <tr>\n",
       "      <th>1</th>\n",
       "      <td>4040</td>\n",
       "      <td>2</td>\n",
       "      <td>1</td>\n",
       "      <td>2</td>\n",
       "      <td>1</td>\n",
       "      <td>0</td>\n",
       "      <td>1</td>\n",
       "      <td>1</td>\n",
       "      <td>1</td>\n",
       "      <td>1</td>\n",
       "      <td>1</td>\n",
       "      <td>1</td>\n",
       "      <td>15.225277</td>\n",
       "      <td>15.080511</td>\n",
       "    </tr>\n",
       "    <tr>\n",
       "      <th>2</th>\n",
       "      <td>4500</td>\n",
       "      <td>4</td>\n",
       "      <td>2</td>\n",
       "      <td>2</td>\n",
       "      <td>2</td>\n",
       "      <td>0</td>\n",
       "      <td>1</td>\n",
       "      <td>0</td>\n",
       "      <td>0</td>\n",
       "      <td>1</td>\n",
       "      <td>1</td>\n",
       "      <td>1</td>\n",
       "      <td>15.088076</td>\n",
       "      <td>15.552359</td>\n",
       "    </tr>\n",
       "    <tr>\n",
       "      <th>3</th>\n",
       "      <td>5400</td>\n",
       "      <td>4</td>\n",
       "      <td>1</td>\n",
       "      <td>2</td>\n",
       "      <td>0</td>\n",
       "      <td>0</td>\n",
       "      <td>1</td>\n",
       "      <td>2</td>\n",
       "      <td>1</td>\n",
       "      <td>1</td>\n",
       "      <td>1</td>\n",
       "      <td>1</td>\n",
       "      <td>14.869823</td>\n",
       "      <td>15.135447</td>\n",
       "    </tr>\n",
       "    <tr>\n",
       "      <th>4</th>\n",
       "      <td>6000</td>\n",
       "      <td>4</td>\n",
       "      <td>2</td>\n",
       "      <td>4</td>\n",
       "      <td>2</td>\n",
       "      <td>0</td>\n",
       "      <td>1</td>\n",
       "      <td>1</td>\n",
       "      <td>1</td>\n",
       "      <td>1</td>\n",
       "      <td>1</td>\n",
       "      <td>1</td>\n",
       "      <td>15.856731</td>\n",
       "      <td>15.644596</td>\n",
       "    </tr>\n",
       "    <tr>\n",
       "      <th>...</th>\n",
       "      <td>...</td>\n",
       "      <td>...</td>\n",
       "      <td>...</td>\n",
       "      <td>...</td>\n",
       "      <td>...</td>\n",
       "      <td>...</td>\n",
       "      <td>...</td>\n",
       "      <td>...</td>\n",
       "      <td>...</td>\n",
       "      <td>...</td>\n",
       "      <td>...</td>\n",
       "      <td>...</td>\n",
       "      <td>...</td>\n",
       "      <td>...</td>\n",
       "    </tr>\n",
       "    <tr>\n",
       "      <th>104</th>\n",
       "      <td>6600</td>\n",
       "      <td>3</td>\n",
       "      <td>2</td>\n",
       "      <td>3</td>\n",
       "      <td>0</td>\n",
       "      <td>0</td>\n",
       "      <td>1</td>\n",
       "      <td>2</td>\n",
       "      <td>1</td>\n",
       "      <td>0</td>\n",
       "      <td>1</td>\n",
       "      <td>0</td>\n",
       "      <td>15.654948</td>\n",
       "      <td>15.698904</td>\n",
       "    </tr>\n",
       "    <tr>\n",
       "      <th>105</th>\n",
       "      <td>4080</td>\n",
       "      <td>3</td>\n",
       "      <td>1</td>\n",
       "      <td>2</td>\n",
       "      <td>2</td>\n",
       "      <td>0</td>\n",
       "      <td>1</td>\n",
       "      <td>1</td>\n",
       "      <td>1</td>\n",
       "      <td>1</td>\n",
       "      <td>1</td>\n",
       "      <td>1</td>\n",
       "      <td>15.242227</td>\n",
       "      <td>15.170521</td>\n",
       "    </tr>\n",
       "    <tr>\n",
       "      <th>106</th>\n",
       "      <td>7350</td>\n",
       "      <td>2</td>\n",
       "      <td>1</td>\n",
       "      <td>1</td>\n",
       "      <td>1</td>\n",
       "      <td>0</td>\n",
       "      <td>1</td>\n",
       "      <td>1</td>\n",
       "      <td>1</td>\n",
       "      <td>1</td>\n",
       "      <td>1</td>\n",
       "      <td>1</td>\n",
       "      <td>15.068274</td>\n",
       "      <td>15.160819</td>\n",
       "    </tr>\n",
       "    <tr>\n",
       "      <th>107</th>\n",
       "      <td>4350</td>\n",
       "      <td>2</td>\n",
       "      <td>1</td>\n",
       "      <td>1</td>\n",
       "      <td>0</td>\n",
       "      <td>0</td>\n",
       "      <td>1</td>\n",
       "      <td>2</td>\n",
       "      <td>0</td>\n",
       "      <td>1</td>\n",
       "      <td>1</td>\n",
       "      <td>1</td>\n",
       "      <td>15.397577</td>\n",
       "      <td>15.008653</td>\n",
       "    </tr>\n",
       "    <tr>\n",
       "      <th>108</th>\n",
       "      <td>5300</td>\n",
       "      <td>4</td>\n",
       "      <td>2</td>\n",
       "      <td>1</td>\n",
       "      <td>0</td>\n",
       "      <td>0</td>\n",
       "      <td>1</td>\n",
       "      <td>2</td>\n",
       "      <td>1</td>\n",
       "      <td>0</td>\n",
       "      <td>1</td>\n",
       "      <td>0</td>\n",
       "      <td>15.473739</td>\n",
       "      <td>15.496437</td>\n",
       "    </tr>\n",
       "  </tbody>\n",
       "</table>\n",
       "<p>109 rows × 14 columns</p>\n",
       "</div>"
      ],
      "text/plain": [
       "     area  bedrooms  bathrooms  stories  parking  mainroad  guestroom  \\\n",
       "0    3150         3          1        2        0         1          1   \n",
       "1    4040         2          1        2        1         0          1   \n",
       "2    4500         4          2        2        2         0          1   \n",
       "3    5400         4          1        2        0         0          1   \n",
       "4    6000         4          2        4        2         0          1   \n",
       "..    ...       ...        ...      ...      ...       ...        ...   \n",
       "104  6600         3          2        3        0         0          1   \n",
       "105  4080         3          1        2        2         0          1   \n",
       "106  7350         2          1        1        1         0          1   \n",
       "107  4350         2          1        1        0         0          1   \n",
       "108  5300         4          2        1        0         0          1   \n",
       "\n",
       "     furnishingstatus  basement  prefarea  hotwaterheating  airconditioning  \\\n",
       "0                   2         1         1                1                1   \n",
       "1                   1         1         1                1                1   \n",
       "2                   0         0         1                1                1   \n",
       "3                   2         1         1                1                1   \n",
       "4                   1         1         1                1                1   \n",
       "..                ...       ...       ...              ...              ...   \n",
       "104                 2         1         0                1                0   \n",
       "105                 1         1         1                1                1   \n",
       "106                 1         1         1                1                1   \n",
       "107                 2         0         1                1                1   \n",
       "108                 2         1         0                1                0   \n",
       "\n",
       "     ACTUAL Price  PREDICTED Price  \n",
       "0       14.893920        14.858002  \n",
       "1       15.225277        15.080511  \n",
       "2       15.088076        15.552359  \n",
       "3       14.869823        15.135447  \n",
       "4       15.856731        15.644596  \n",
       "..            ...              ...  \n",
       "104     15.654948        15.698904  \n",
       "105     15.242227        15.170521  \n",
       "106     15.068274        15.160819  \n",
       "107     15.397577        15.008653  \n",
       "108     15.473739        15.496437  \n",
       "\n",
       "[109 rows x 14 columns]"
      ]
     },
     "execution_count": 42,
     "metadata": {},
     "output_type": "execute_result"
    }
   ],
   "source": [
    "a=pd.DataFrame()    # HERE WE ARE JUST COMPARING ACTUAL PRICE AND PRED PRICE\n",
    "a=X_test.copy()\n",
    "a['ACTUAL Price']=Y_test\n",
    "a['PREDICTED Price']=Y_pred\n",
    "a=a.reset_index().drop('index',axis=1)\n",
    "a"
   ]
  },
  {
   "cell_type": "code",
   "execution_count": 43,
   "metadata": {},
   "outputs": [
    {
     "data": {
      "text/plain": [
       "<matplotlib.legend.Legend at 0x1f0d36af488>"
      ]
     },
     "execution_count": 43,
     "metadata": {},
     "output_type": "execute_result"
    },
    {
     "data": {
      "image/png": "[encoded data removed]",
      "text/plain": [
       "<Figure size 432x288 with 1 Axes>"
      ]
     },
     "metadata": {
      "needs_background": "light"
     },
     "output_type": "display_data"
    }
   ],
   "source": [
    "a['ACTUAL Price'].plot()\n",
    "a['PREDICTED Price'].plot()\n",
    "mp.legend(loc = 'lower right')"
   ]
  },
  {
   "cell_type": "code",
   "execution_count": 44,
   "metadata": {},
   "outputs": [
    {
     "name": "stdout",
     "output_type": "stream",
     "text": [
      "R SQUARED 0.7208961955341688\n",
      "RMSE: 0.17807584313496694\n",
      "ADJ R-SQR 0.7146006209973457\n"
     ]
    }
   ],
   "source": [
    "from sklearn.metrics import r2_score,mean_squared_error\n",
    "import numpy as np\n",
    "r2=r2_score(Y_test,Y_pred)\n",
    "print('R SQUARED',r2)\n",
    "rmse=np.sqrt(mean_squared_error(Y_test,Y_pred))\n",
    "print('RMSE:',rmse)\n",
    "adj_r_sqr=1-(1-r2)*(len(y)-1)/(len(y)-x.shape[1]-1)\n",
    "print('ADJ R-SQR',adj_r_sqr)"
   ]
  },
  {
   "cell_type": "code",
   "execution_count": 77,
   "metadata": {},
   "outputs": [],
   "source": [
    "# SO THE BASE LINEAR MODEL IS GIVING R SQUARED VALUE AS 0.7208"
   ]
  },
  {
   "cell_type": "markdown",
   "metadata": {},
   "source": [
    "# RIDGE REGRESSION"
   ]
  },
  {
   "cell_type": "code",
   "execution_count": 45,
   "metadata": {},
   "outputs": [],
   "source": [
    "from sklearn.model_selection import train_test_split # HERE WE SPLITING THE DATA INTO TRAINING AND TESTING \n",
    "#split the data into test and train\n",
    "X_train,X_test,Y_train,Y_test=train_test_split(x,y_log,test_size=0.2,random_state=10)"
   ]
  },
  {
   "cell_type": "code",
   "execution_count": 46,
   "metadata": {},
   "outputs": [
    {
     "name": "stdout",
     "output_type": "stream",
     "text": [
      "(436, 12)\n",
      "(109, 12)\n",
      "(436,)\n",
      "(109,)\n"
     ]
    }
   ],
   "source": [
    "print(X_train.shape)\n",
    "print(X_test.shape)\n",
    "print(Y_train.shape)\n",
    "print(Y_test.shape)"
   ]
  },
  {
   "cell_type": "code",
   "execution_count": 47,
   "metadata": {},
   "outputs": [
    {
     "name": "stdout",
     "output_type": "stream",
     "text": [
      "15.095773995880018\n",
      "[ 0.0000517   0.04427219  0.15048862  0.09023146  0.04408992 -0.11532537\n",
      " -0.06169274 -0.05959276 -0.10487831 -0.12634015 -0.15992168 -0.17386619]\n"
     ]
    }
   ],
   "source": [
    "from sklearn.linear_model import Ridge\n",
    "# create a model object\n",
    "lm1=Ridge()\n",
    "#train the model object\n",
    "lm1.fit(X_train,Y_train)\n",
    "\n",
    "#print intercept and coefficients\n",
    "print(lm1.intercept_)\n",
    "print(lm1.coef_)"
   ]
  },
  {
   "cell_type": "code",
   "execution_count": 48,
   "metadata": {},
   "outputs": [
    {
     "name": "stdout",
     "output_type": "stream",
     "text": [
      "[14.86120166 15.08195462 15.55333274 15.13713459 15.64688149 15.76727069\n",
      " 15.07727934 14.92855865 15.37602085 14.93003583 15.37079534 14.75177474\n",
      " 15.20865352 15.266344   15.67602624 14.86360411 15.80037823 15.64077892\n",
      " 15.40607718 15.25101719 14.86684159 14.7142889  15.59306062 15.37786025\n",
      " 15.76736969 15.60268015 15.06560799 15.09822662 15.0719052  15.12380311\n",
      " 15.27496788 15.40501653 15.4467299  15.46705101 15.86530299 15.40468161\n",
      " 15.69228507 14.82261646 15.47677319 15.38912247 15.35299323 15.46101257\n",
      " 14.93774857 15.62024973 15.52358766 15.88703246 16.04079378 15.53340892\n",
      " 15.03117051 15.30064055 15.0283641  15.58250228 15.14888341 15.31428912\n",
      " 14.92475075 15.46283808 15.43383282 15.09428056 15.15349979 15.22739735\n",
      " 15.22208838 15.28791065 15.36844424 15.13759328 15.21527625 15.72641011\n",
      " 15.00774305 14.86819896 14.84357451 15.768226   15.17611377 15.65499939\n",
      " 15.64211733 15.12718069 14.91568476 15.02722387 14.9592101  15.36605166\n",
      " 16.23097433 15.3308844  15.80293344 15.34711837 15.13510377 14.88852306\n",
      " 15.25722921 14.87774662 15.39269049 16.37845323 15.52843653 15.00549215\n",
      " 15.52147103 14.98194686 15.63211628 15.55388389 15.12895305 15.09920995\n",
      " 15.01033682 15.66151443 15.27633939 15.3053142  15.43140145 15.15607671\n",
      " 15.29282625 15.19026453 15.69583433 15.17238492 15.16286541 15.00894721\n",
      " 15.49242763]\n"
     ]
    }
   ],
   "source": [
    "# predict using the model\n",
    "Y_pred=lm1.predict(X_test)\n",
    "print(Y_pred)"
   ]
  },
  {
   "cell_type": "code",
   "execution_count": 49,
   "metadata": {},
   "outputs": [
    {
     "name": "stdout",
     "output_type": "stream",
     "text": [
      "R SQUARED 0.7209999466386\n",
      "RMSE: 0.17804274204068005\n",
      "ADJ R-SQR 0.7147067123522526\n"
     ]
    }
   ],
   "source": [
    "from sklearn.metrics import r2_score,mean_squared_error\n",
    "import numpy as np\n",
    "r2=r2_score(Y_test,Y_pred)\n",
    "print('R SQUARED',r2)\n",
    "rmse=np.sqrt(mean_squared_error(Y_test,Y_pred))\n",
    "print('RMSE:',rmse)\n",
    "adj_r_sqr=1-(1-r2)*(len(y)-1)/(len(y)-x.shape[1]-1)\n",
    "print('ADJ R-SQR',adj_r_sqr)"
   ]
  },
  {
   "cell_type": "code",
   "execution_count": 78,
   "metadata": {},
   "outputs": [],
   "source": [
    "# SO THE RIDGE LINEAR MODEL IS GIVING R SQUARED VALUE AS 0.7209"
   ]
  },
  {
   "cell_type": "markdown",
   "metadata": {},
   "source": [
    "# LASSO REGRESSION"
   ]
  },
  {
   "cell_type": "code",
   "execution_count": 50,
   "metadata": {},
   "outputs": [
    {
     "name": "stdout",
     "output_type": "stream",
     "text": [
      "14.816749581602549\n",
      "[ 0.00009711  0.          0.          0.          0.         -0.\n",
      " -0.         -0.         -0.         -0.         -0.         -0.        ]\n"
     ]
    }
   ],
   "source": [
    "from sklearn.linear_model import Lasso\n",
    "# create a model object\n",
    "lm2=Lasso()\n",
    "#train the model object\n",
    "lm2.fit(X_train,Y_train)\n",
    "\n",
    "#print intercept and coefficients\n",
    "print(lm2.intercept_)\n",
    "print(lm2.coef_)"
   ]
  },
  {
   "cell_type": "code",
   "execution_count": 79,
   "metadata": {},
   "outputs": [],
   "source": [
    "# SO AFTER SEEING THE LM COEFF WE CAN SAY IT WILL GOING TO BUILD A WORST MODEL"
   ]
  },
  {
   "cell_type": "markdown",
   "metadata": {},
   "source": [
    "# SGD REGRESSOR"
   ]
  },
  {
   "cell_type": "code",
   "execution_count": 51,
   "metadata": {},
   "outputs": [],
   "source": [
    "# create X and Y\n",
    "x=h.loc[:,['area', 'bedrooms', 'bathrooms', 'stories', 'parking','mainroad','guestroom','furnishingstatus','basement','prefarea','hotwaterheating', 'airconditioning']]\n",
    "y=h.loc[:,'price']"
   ]
  },
  {
   "cell_type": "code",
   "execution_count": 80,
   "metadata": {},
   "outputs": [
    {
     "name": "stdout",
     "output_type": "stream",
     "text": [
      "[[ 1.04672629  1.40341936  1.42181174 ... -1.80494113  0.2192645\n",
      "  -1.4726183 ]\n",
      " [ 1.75700953  1.40341936  5.40580863 ...  0.55403469  0.2192645\n",
      "  -1.4726183 ]\n",
      " [ 2.21823241  0.04727831  1.42181174 ... -1.80494113  0.2192645\n",
      "   0.67906259]\n",
      " ...\n",
      " [-0.70592066 -1.30886273 -0.57018671 ...  0.55403469  0.2192645\n",
      "   0.67906259]\n",
      " [-1.03338891  0.04727831 -0.57018671 ...  0.55403469  0.2192645\n",
      "   0.67906259]\n",
      " [-0.5998394   0.04727831 -0.57018671 ...  0.55403469  0.2192645\n",
      "   0.67906259]]\n"
     ]
    }
   ],
   "source": [
    "from sklearn.preprocessing import StandardScaler # HERE WE ARE SCALING THE DATA\n",
    "scaler=StandardScaler()\n",
    "X=scaler.fit_transform(x)\n",
    "print(X)"
   ]
  },
  {
   "cell_type": "code",
   "execution_count": 53,
   "metadata": {},
   "outputs": [],
   "source": [
    "from sklearn.model_selection import train_test_split\n",
    "#split the data into test and train\n",
    "X_train,X_test,Y_train,Y_test=train_test_split(X,y_log,test_size=0.2,random_state=10)"
   ]
  },
  {
   "cell_type": "code",
   "execution_count": 54,
   "metadata": {},
   "outputs": [],
   "source": [
    "from sklearn.linear_model import SGDRegressor"
   ]
  },
  {
   "cell_type": "code",
   "execution_count": 55,
   "metadata": {},
   "outputs": [
    {
     "name": "stdout",
     "output_type": "stream",
     "text": [
      "[15.31065054]\n",
      "[ 0.11310681  0.03134946  0.07319822  0.08181067  0.03400297 -0.03907462\n",
      " -0.02318298 -0.04946532 -0.05311562 -0.05526301 -0.03552464 -0.08253025]\n"
     ]
    }
   ],
   "source": [
    "lm3 = SGDRegressor(learning_rate=\"constant\",  \n",
    "                  #want to use a constant learning rate\n",
    "                  eta0=0.001,  #alpha\n",
    "                  shuffle=True, \n",
    "        #while going ahead with the next epoch shuffle the obs\n",
    "                  random_state=10, #set seed\n",
    "                  max_iter=1000, #max no of epochs\n",
    "                  early_stopping=True,\n",
    "                  #stop if zero convergence is reached first\n",
    "                  n_iter_no_change=5) \n",
    "        #no of obs to wait for before concluding upon early stopping\n",
    "lm3.fit(X_train,Y_train)\n",
    "\n",
    "\n",
    "# print intercept and coefficients\n",
    "print (lm3.intercept_)\n",
    "print (lm3.coef_)"
   ]
  },
  {
   "cell_type": "code",
   "execution_count": 56,
   "metadata": {},
   "outputs": [],
   "source": [
    "Y_pred_new=lm3.predict(X_test)"
   ]
  },
  {
   "cell_type": "code",
   "execution_count": 57,
   "metadata": {},
   "outputs": [
    {
     "name": "stdout",
     "output_type": "stream",
     "text": [
      "R SQUARED 0.7186082302435441\n",
      "RMSE: 0.17880424554782232\n",
      "ADJ R-SQR 0.7122610474670827\n"
     ]
    }
   ],
   "source": [
    "from sklearn.metrics import r2_score,mean_squared_error\n",
    "import numpy as np\n",
    "r2=r2_score(Y_test,Y_pred_new)\n",
    "print('R SQUARED',r2)\n",
    "rmse=np.sqrt(mean_squared_error(Y_test,Y_pred_new))\n",
    "print('RMSE:',rmse)\n",
    "adj_r_sqr=1-(1-r2)*(len(y)-1)/(len(y)-x.shape[1]-1)\n",
    "print('ADJ R-SQR',adj_r_sqr)"
   ]
  },
  {
   "cell_type": "code",
   "execution_count": 81,
   "metadata": {},
   "outputs": [],
   "source": [
    "# SO THE SGD LINEAR MODEL IS GIVING R SQUARED VALUE AS 0.7186"
   ]
  },
  {
   "cell_type": "markdown",
   "metadata": {},
   "source": [
    "# KNN MODEL"
   ]
  },
  {
   "cell_type": "code",
   "execution_count": 58,
   "metadata": {},
   "outputs": [],
   "source": [
    "from sklearn.model_selection import train_test_split\n",
    "#split the data into test and train\n",
    "X_train,X_test,Y_train,Y_test=train_test_split(X,y_log,test_size=0.2,random_state=10)"
   ]
  },
  {
   "cell_type": "code",
   "execution_count": 59,
   "metadata": {},
   "outputs": [
    {
     "data": {
      "text/plain": [
       "20"
      ]
     },
     "execution_count": 59,
     "metadata": {},
     "output_type": "execute_result"
    }
   ],
   "source": [
    "int(np.sqrt(len(X_train)))"
   ]
  },
  {
   "cell_type": "code",
   "execution_count": 60,
   "metadata": {},
   "outputs": [],
   "source": [
    "# predicting using the Kneighbors_Regressor\n",
    "from sklearn.neighbors import KNeighborsRegressor   # IT IS BASED ON MEAN VALUE\n",
    "model_knn= KNeighborsRegressor(n_neighbors=20,metric='euclidean') \n",
    "# euclidean,manhatten,minkowski\n",
    "# fit the model on the data and predict the values\n",
    "model_knn.fit(X_train,Y_train)\n",
    "\n",
    "Y_pred=model_knn.predict(X_test)\n",
    "#print(list(zip(Y_test,Y_pred)))"
   ]
  },
  {
   "cell_type": "code",
   "execution_count": 61,
   "metadata": {},
   "outputs": [
    {
     "data": {
      "text/plain": [
       "array([14.88036004, 15.03099804, 15.3723638 , 15.03816826, 15.70138743,\n",
       "       15.62579514, 14.87847132, 14.88036004, 15.21624733, 14.92069227,\n",
       "       15.30695555, 14.87589546, 15.20443588, 15.31380034, 15.62230188,\n",
       "       14.92111681, 15.70196513, 15.59964434, 15.2944746 , 15.13633548,\n",
       "       14.84545068, 14.88501154, 15.41258436, 15.30786028, 15.64710839,\n",
       "       15.59317688, 15.19923919, 14.8447265 , 15.13282301, 15.06647124,\n",
       "       15.19986569, 15.37132985, 15.34302899, 15.28989302, 15.583172  ,\n",
       "       15.37169969, 15.65939545, 14.88602277, 15.47245898, 15.31115632,\n",
       "       15.21593905, 15.46842152, 14.97254381, 15.66074127, 15.52276614,\n",
       "       15.80056112, 15.70683314, 15.57812828, 15.03405597, 15.27475024,\n",
       "       15.06138784, 15.37785111, 15.00240855, 15.30562389, 14.84600317,\n",
       "       15.39342761, 15.43065071, 15.15262908, 15.28914667, 15.0569964 ,\n",
       "       15.1629487 , 15.30994881, 15.34433787, 15.13367949, 15.10028675,\n",
       "       15.6809346 , 14.9908508 , 14.85858018, 14.82761693, 15.74711116,\n",
       "       15.26222392, 15.51154548, 15.51174043, 15.06021088, 14.95230768,\n",
       "       14.94588375, 14.93342988, 15.43135299, 15.88413545, 15.34213355,\n",
       "       15.65898877, 15.1297358 , 15.1583396 , 14.90008691, 15.23793024,\n",
       "       14.96418079, 15.26601998, 15.83610528, 15.49399024, 15.24359044,\n",
       "       15.46390406, 14.90868295, 15.42205961, 15.51026868, 15.20392998,\n",
       "       15.27072597, 14.95906271, 15.64568444, 15.25629628, 15.26564558,\n",
       "       15.28938463, 15.15109313, 15.18579106, 15.21553627, 15.72285935,\n",
       "       15.21236788, 15.12717626, 14.94630699, 15.556172  ])"
      ]
     },
     "execution_count": 61,
     "metadata": {},
     "output_type": "execute_result"
    }
   ],
   "source": [
    "Y_pred    # IT GIVES MEAN OF NEIGHBORS VALUE"
   ]
  },
  {
   "cell_type": "code",
   "execution_count": 62,
   "metadata": {},
   "outputs": [
    {
     "name": "stdout",
     "output_type": "stream",
     "text": [
      "R SQUARED 0.7008911041811261\n",
      "RMSE: 0.18434730623203244\n",
      "ADJ R-SQR 0.6941442869822041\n"
     ]
    }
   ],
   "source": [
    "from sklearn.metrics import r2_score,mean_squared_error\n",
    "import numpy as np\n",
    "r2=r2_score(Y_test,Y_pred)\n",
    "print('R SQUARED',r2)\n",
    "rmse=np.sqrt(mean_squared_error(Y_test,Y_pred))\n",
    "print('RMSE:',rmse)\n",
    "adj_r_sqr=1-(1-r2)*(len(y)-1)/(len(y)-x.shape[1]-1)\n",
    "print('ADJ R-SQR',adj_r_sqr)"
   ]
  },
  {
   "cell_type": "code",
   "execution_count": null,
   "metadata": {},
   "outputs": [],
   "source": [
    "# SO THE BASE KNN LINEAR MODEL IS GIVING R SQUARED VALUE AS 0.70"
   ]
  },
  {
   "cell_type": "code",
   "execution_count": 82,
   "metadata": {},
   "outputs": [
    {
     "name": "stdout",
     "output_type": "stream",
     "text": [
      "RSQUARED is 0.41766842283205563 for K value: 1\n",
      "RSQUARED is 0.511867750137974 for K value: 2\n",
      "RSQUARED is 0.5818051500454702 for K value: 3\n",
      "RSQUARED is 0.6167556622776192 for K value: 4\n",
      "RSQUARED is 0.6582995075099055 for K value: 5\n",
      "RSQUARED is 0.6641906576005652 for K value: 6\n",
      "RSQUARED is 0.6848179852496896 for K value: 7\n",
      "RSQUARED is 0.694440138197574 for K value: 8\n",
      "RSQUARED is 0.7110546086508283 for K value: 9\n",
      "RSQUARED is 0.7046722066614064 for K value: 10\n",
      "RSQUARED is 0.7108585328863523 for K value: 11\n",
      "RSQUARED is 0.7167331582383223 for K value: 12\n",
      "RSQUARED is 0.7152762989970782 for K value: 13\n",
      "RSQUARED is 0.7119938307180106 for K value: 14\n",
      "RSQUARED is 0.7114716577602913 for K value: 15\n",
      "RSQUARED is 0.7025104347708245 for K value: 16\n",
      "RSQUARED is 0.6986747014911943 for K value: 17\n",
      "RSQUARED is 0.6970744880058567 for K value: 18\n",
      "RSQUARED is 0.6965268312985649 for K value: 19\n",
      "RSQUARED is 0.7008911041811261 for K value: 20\n",
      "RSQUARED is 0.697615035978459 for K value: 21\n",
      "RSQUARED is 0.7023615365764049 for K value: 22\n",
      "RSQUARED is 0.7033300457937064 for K value: 23\n",
      "RSQUARED is 0.7037332483912724 for K value: 24\n",
      "RSQUARED is 0.6995338325360224 for K value: 25\n",
      "RSQUARED is 0.695695657226236 for K value: 26\n",
      "RSQUARED is 0.6933857698721211 for K value: 27\n",
      "RSQUARED is 0.6968659137404537 for K value: 28\n",
      "RSQUARED is 0.7010556669340613 for K value: 29\n",
      "RSQUARED is 0.6999468235636287 for K value: 30\n"
     ]
    }
   ],
   "source": [
    "from sklearn.metrics import r2_score # HERE WE ARE CHECKING THE BEST K VALUE\n",
    "my_dict={}\n",
    "for k in range(1,31):\n",
    "    model_knn=KNeighborsRegressor(n_neighbors=k,metric='euclidean')\n",
    "    model_knn.fit(X_train,Y_train)\n",
    "    Y_pred_2=model_knn.predict(X_test)\n",
    "    print('RSQUARED is',r2_score(Y_test,Y_pred_2),'for K value:',k)\n",
    "    my_dict[k]=r2_score(Y_test,Y_pred_2)"
   ]
  },
  {
   "cell_type": "code",
   "execution_count": 64,
   "metadata": {},
   "outputs": [
    {
     "data": {
      "text/plain": [
       "{1: 0.41766842283205563,\n",
       " 2: 0.511867750137974,\n",
       " 3: 0.5818051500454702,\n",
       " 4: 0.6167556622776192,\n",
       " 5: 0.6582995075099055,\n",
       " 6: 0.6641906576005652,\n",
       " 7: 0.6848179852496896,\n",
       " 8: 0.694440138197574,\n",
       " 9: 0.7110546086508283,\n",
       " 10: 0.7046722066614064,\n",
       " 11: 0.7108585328863523,\n",
       " 12: 0.7167331582383223,\n",
       " 13: 0.7152762989970782,\n",
       " 14: 0.7119938307180106,\n",
       " 15: 0.7114716577602913,\n",
       " 16: 0.7025104347708245,\n",
       " 17: 0.6986747014911943,\n",
       " 18: 0.6970744880058567,\n",
       " 19: 0.6965268312985649,\n",
       " 20: 0.7008911041811261,\n",
       " 21: 0.697615035978459,\n",
       " 22: 0.7023615365764049,\n",
       " 23: 0.7033300457937064,\n",
       " 24: 0.7037332483912724,\n",
       " 25: 0.6995338325360224,\n",
       " 26: 0.695695657226236,\n",
       " 27: 0.6933857698721211,\n",
       " 28: 0.6968659137404537,\n",
       " 29: 0.7010556669340613,\n",
       " 30: 0.6999468235636287}"
      ]
     },
     "execution_count": 64,
     "metadata": {},
     "output_type": "execute_result"
    }
   ],
   "source": [
    "my_dict "
   ]
  },
  {
   "cell_type": "markdown",
   "metadata": {
    "scrolled": true
   },
   "source": [
    "# SVR MODEL"
   ]
  },
  {
   "cell_type": "code",
   "execution_count": 66,
   "metadata": {},
   "outputs": [],
   "source": [
    "from sklearn.model_selection import train_test_split\n",
    "#split the data into test and train\n",
    "X_train,X_test,Y_train,Y_test=train_test_split(X,y_log,test_size=0.2,random_state=10)"
   ]
  },
  {
   "cell_type": "code",
   "execution_count": 67,
   "metadata": {},
   "outputs": [
    {
     "name": "stdout",
     "output_type": "stream",
     "text": [
      "[14.921394308188823, 15.050981392155562, 15.496054785289326, 15.000478993667537, 15.643111709734717, 15.616050505323738, 14.999314274298603, 14.8829255827271, 15.21519130253916, 14.956574712949045, 15.414593587173561, 14.801618451301607, 15.069824912543407, 15.318134716866087, 15.711278550717392, 14.837589462936563, 15.810921822434748, 15.604582905231776, 15.43236653925266, 15.338406232719395, 14.860578522115581, 14.744310100820597, 15.294822863392742, 15.339703866133895, 15.58567878797063, 15.567558869711739, 15.20217115768477, 15.0061525941964, 15.254575351010809, 15.014018128550864, 15.119062954560453, 15.317209549449789, 15.542246326578653, 15.571711005830293, 15.833152339486276, 15.259737281096234, 15.674046712216855, 14.893787919688275, 15.352506077882756, 15.276928069782334, 15.282925951472189, 15.4532595221151, 14.869101586747332, 15.609097284652918, 15.580857972743562, 15.683349606789289, 15.38052373381854, 15.516301630353611, 15.0832038337397, 15.149399114860646, 15.055865128281619, 15.64292391273186, 15.216403020350524, 15.302685715155892, 14.899714388313685, 15.644182751979521, 15.431535829581671, 15.25346434906501, 15.219178986674901, 15.130761371011209, 15.243799696269189, 15.319917533557424, 15.381681658660009, 15.070379905559284, 15.352120240623814, 15.717628708790095, 14.994305450375116, 14.876797171821238, 14.843460244938328, 15.930988149456049, 15.175719217098406, 15.794645333806793, 15.514261253566168, 15.090217565081295, 15.00493854950712, 15.087224161465317, 15.038395887506061, 15.522338525606369, 15.865034957105697, 15.312067193701145, 15.659383781771755, 15.39591725897761, 15.13270717150836, 14.910971399041133, 15.397399502518818, 14.93703245769383, 15.476774296541342, 15.45761898370908, 15.39498170163855, 15.128192130951307, 15.503045652053524, 14.970600969419428, 15.681915128464617, 15.628217156773612, 15.205637565507013, 15.207800314878734, 15.061004601600944, 15.537851717634695, 15.095474952721018, 15.289770485309337, 15.393566050262587, 15.189673234092659, 15.482037669005427, 15.220758965246434, 15.834430570222995, 15.260962227379727, 15.21754389994067, 14.900737814762048, 15.434443228716194]\n"
     ]
    }
   ],
   "source": [
    "from sklearn.svm import SVR\n",
    "svr_model=SVR(kernel='rbf',C=1,gamma=0.1)\n",
    "svr_model.fit(X_train,Y_train)\n",
    "Y_pred=svr_model.predict(X_test)\n",
    "print(list(Y_pred))"
   ]
  },
  {
   "cell_type": "code",
   "execution_count": 68,
   "metadata": {},
   "outputs": [
    {
     "name": "stdout",
     "output_type": "stream",
     "text": [
      "R SQUARED 0.5620372943934712\n",
      "RMSE: 0.22306975798457174\n",
      "ADJ R-SQR 0.5521584363722714\n"
     ]
    }
   ],
   "source": [
    "from sklearn.metrics import r2_score,mean_squared_error\n",
    "import numpy as np\n",
    "r2=r2_score(Y_test,Y_pred)\n",
    "print('R SQUARED',r2)\n",
    "rmse=np.sqrt(mean_squared_error(Y_test,Y_pred))\n",
    "print('RMSE:',rmse)\n",
    "adj_r_sqr=1-(1-r2)*(len(y)-1)/(len(y)-x.shape[1]-1)\n",
    "print('ADJ R-SQR',adj_r_sqr)"
   ]
  },
  {
   "cell_type": "code",
   "execution_count": 83,
   "metadata": {},
   "outputs": [],
   "source": [
    "# SO THE BASE SVR LINEAR MODEL IS GIVING R SQUARED VALUE AS 0.5620"
   ]
  },
  {
   "cell_type": "code",
   "execution_count": 69,
   "metadata": {},
   "outputs": [],
   "source": [
    "from sklearn import svm # HERE WE ARE CHECKING BEST HYPERPARAMETER VALUE\n",
    "\n",
    "svr_model = svm.SVR(kernel=\"rbf\")\n",
    "\n",
    "parameter_space = {\n",
    "    #'kernel': [\"linear\",\"rbf\",\"poly\",\"sigmoid\"],\n",
    "    'gamma': [0.1,0.01,0.001],\n",
    "    #\"C\": np.arange(0,101,5)\n",
    "    'C': [1,5,8,10,20,30, 40,50,130]\n",
    "    \n",
    "}\n",
    "from sklearn.model_selection import GridSearchCV\n",
    "clf = GridSearchCV(svr_model, parameter_space, n_jobs=-1, cv=5)"
   ]
  },
  {
   "cell_type": "code",
   "execution_count": 70,
   "metadata": {},
   "outputs": [
    {
     "data": {
      "text/plain": [
       "GridSearchCV(cv=5, estimator=SVR(), n_jobs=-1,\n",
       "             param_grid={'C': [1, 5, 8, 10, 20, 30, 40, 50, 130],\n",
       "                         'gamma': [0.1, 0.01, 0.001]})"
      ]
     },
     "execution_count": 70,
     "metadata": {},
     "output_type": "execute_result"
    }
   ],
   "source": [
    "clf.fit(X_train,Y_train)"
   ]
  },
  {
   "cell_type": "code",
   "execution_count": 84,
   "metadata": {},
   "outputs": [
    {
     "name": "stdout",
     "output_type": "stream",
     "text": [
      "best parameter found:/n {'C': 130, 'gamma': 0.001}\n"
     ]
    }
   ],
   "source": [
    "print('best parameter found:/n',clf.best_params_) # SO THIS IS THE BEST HYPERPARAMETER VALUE"
   ]
  },
  {
   "cell_type": "code",
   "execution_count": 72,
   "metadata": {},
   "outputs": [
    {
     "name": "stdout",
     "output_type": "stream",
     "text": [
      "[14.90049204294644, 15.11302584950478, 15.503858331515744, 15.15081039069311, 15.571456916214373, 15.714133792245761, 15.060518621965969, 14.937820380110722, 15.339612530968807, 14.920556467716239, 15.41797961593943, 14.77510058626784, 15.17923825811873, 15.322321891177552, 15.688894816479277, 14.85719949763677, 15.817487750095111, 15.669087282647666, 15.410139804258037, 15.297287342989705, 14.860055791064227, 14.731833004577396, 15.466408059785351, 15.299434426815424, 15.668744282206234, 15.618256461441902, 15.072472755599804, 15.112662068745962, 15.082055909508142, 15.11291269356397, 15.217835750584015, 15.342612087677352, 15.350074682055507, 15.482476969798185, 15.871101409664888, 15.345971361107331, 15.725898989722694, 14.856576458482891, 15.436660203432623, 15.426371082978918, 15.321235535006764, 15.353224549519396, 14.94186673990066, 15.663447278127435, 15.511209754813564, 15.815371441098648, 15.638401582629143, 15.555522912532084, 15.018779274148969, 15.318435461827377, 15.07652261776478, 15.595321128949138, 15.161262068031576, 15.338544651291684, 14.926314876900847, 15.473807107144438, 15.37199068668862, 15.165949730058529, 15.143717379137613, 15.212716653644847, 15.208265881981092, 15.291113777825672, 15.366981992678674, 15.178754841472667, 15.279423365457205, 15.755899707747417, 15.025309371489413, 14.878451831558024, 14.831098736982128, 15.816428237226077, 15.171967108914032, 15.62836144040783, 15.61440332359534, 15.142335344563335, 14.957187753691628, 15.086104365057992, 14.968715403710533, 15.413229422590888, 16.222160350848725, 15.366841032088189, 15.854760842469702, 15.311104875580767, 15.148025052338966, 14.879546205527362, 15.251595812614212, 14.943882597403189, 15.23444425890412, 16.087556005257838, 15.462359102916068, 14.961150328298771, 15.474559701441734, 15.020281726871161, 15.626402267171017, 15.568669588450092, 15.133762931659334, 15.092070781081077, 15.03327075412389, 15.70181081364396, 15.286587668594052, 15.325960583123702, 15.397491023814297, 15.090208366247879, 15.295974440641572, 15.194365876962678, 15.795357809003718, 15.186749741573593, 15.170985247518544, 14.966061940157005, 15.568034882034382]\n"
     ]
    }
   ],
   "source": [
    "from sklearn.svm import SVR\n",
    "svr_model=SVR(kernel='rbf',C=130,gamma=0.001)\n",
    "svr_model.fit(X_train,Y_train)\n",
    "Y_pred=svr_model.predict(X_test)\n",
    "print(list(Y_pred))"
   ]
  },
  {
   "cell_type": "code",
   "execution_count": 73,
   "metadata": {},
   "outputs": [
    {
     "name": "stdout",
     "output_type": "stream",
     "text": [
      "R SQUARED 0.7011192448842476\n",
      "RMSE: 0.18427698878692114\n",
      "ADJ R-SQR 0.6943775737162231\n"
     ]
    }
   ],
   "source": [
    "from sklearn.metrics import r2_score,mean_squared_error\n",
    "import numpy as np\n",
    "r2=r2_score(Y_test,Y_pred)\n",
    "print('R SQUARED',r2)\n",
    "rmse=np.sqrt(mean_squared_error(Y_test,Y_pred))\n",
    "print('RMSE:',rmse)\n",
    "adj_r_sqr=1-(1-r2)*(len(y)-1)/(len(y)-x.shape[1]-1)\n",
    "print('ADJ R-SQR',adj_r_sqr)"
   ]
  },
  {
   "cell_type": "code",
   "execution_count": 85,
   "metadata": {},
   "outputs": [],
   "source": [
    "# SO THE TUNED SVR LINEAR MODEL IS GIVING R SQUARED VALUE AS 0.7011"
   ]
  },
  {
   "cell_type": "markdown",
   "metadata": {},
   "source": [
    "# DT MODEL"
   ]
  },
  {
   "cell_type": "code",
   "execution_count": 74,
   "metadata": {},
   "outputs": [],
   "source": [
    "from sklearn.model_selection import train_test_split\n",
    "#split the data into test and train\n",
    "X_train,X_test,Y_train,Y_test=train_test_split(X,y_log,test_size=0.2,random_state=10)"
   ]
  },
  {
   "cell_type": "code",
   "execution_count": 75,
   "metadata": {},
   "outputs": [
    {
     "name": "stdout",
     "output_type": "stream",
     "text": [
      "[14.739769459487606, 15.315133604391168, 15.418930398072812, 15.066271523788968, 15.65606019136176, 15.547608483134262, 14.915122346965468, 14.739769459487606, 15.51934914581986, 15.117063690629074, 15.404745763080856, 14.877936056809169, 14.793836680757881, 15.203678163465845, 15.81021087118902, 14.739769459487606, 16.008280784951115, 15.598901777521812, 15.418930398072812, 15.258893886068291, 14.375126345899696, 14.433395254023672, 14.962913010801817, 15.598901777521812, 15.678039098080536, 15.598901777521812, 14.845129975145433, 14.869822587735804, 15.163583706263967, 15.037814318974933, 15.01908328226887, 15.512959347721088, 15.51934914581986, 15.688850014184752, 15.790979509261131, 15.232091611689038, 15.181602211766645, 14.739769459487606, 15.65606019136176, 15.633587335509702, 15.066271523788968, 15.538277155705378, 14.452087387035824, 15.710127412632037, 15.512959347721088, 15.819689615143563, 15.730961499534878, 15.203678163465845, 14.951739710203691, 15.360943140422462, 15.404745763080856, 15.879203742675971, 15.297796684737891, 15.088076153755821, 14.71159858252091, 15.473738634567807, 15.107494239612924, 15.233787964937216, 15.404745763080856, 15.250595083253597, 15.225277275269306, 15.225277275269306, 15.40331617027126, 15.338300663672703, 15.258893886068291, 16.105010411409665, 15.126542434583618, 14.452087387035824, 15.048070819142122, 15.943742263813542, 14.962913010801817, 15.730961499534878, 15.70696452122353, 14.869822587735804, 14.917450636725059, 15.12465385989575, 14.621986423831222, 15.473738634567807, 15.704850355531192, 15.404745763080856, 15.610597817285004, 15.824395506180975, 15.404745763080856, 15.048070819142122, 15.037814318974933, 14.98489191752059, 15.404745763080856, 15.65606019136176, 15.275287695843968, 14.962913010801817, 16.039052443617866, 15.006398122741555, 15.163583706263967, 15.633587335509702, 15.625028082114033, 15.683459165549875, 15.097832328701186, 15.610597817285004, 15.404745763080856, 14.85755249514399, 15.313569882414985, 15.181602211766645, 15.404745763080856, 14.85755249514399, 15.710127412632037, 15.24222683358308, 15.267124385204808, 14.767168433675721, 15.824395506180975]\n"
     ]
    }
   ],
   "source": [
    "from sklearn.tree import DecisionTreeRegressor\n",
    "d_model=DecisionTreeRegressor(criterion='mse',random_state=10)\n",
    "#min_sample_leaf,min_samples_split,max_depth,max_features [PRUNING HYPERPARAMETERS]\n",
    "d_model.fit(X_train,Y_train)\n",
    "Y_pred=d_model.predict(X_test)\n",
    "print(list(Y_pred))"
   ]
  },
  {
   "cell_type": "code",
   "execution_count": 76,
   "metadata": {},
   "outputs": [
    {
     "name": "stdout",
     "output_type": "stream",
     "text": [
      "R SQUARED 0.2686444492938649\n",
      "RMSE: 0.28826134721031577\n",
      "ADJ R-SQR 0.2521477075486137\n"
     ]
    }
   ],
   "source": [
    "from sklearn.metrics import r2_score,mean_squared_error\n",
    "import numpy as np\n",
    "r2=r2_score(Y_test,Y_pred)\n",
    "print('R SQUARED',r2)\n",
    "rmse=np.sqrt(mean_squared_error(Y_test,Y_pred))\n",
    "print('RMSE:',rmse)\n",
    "adj_r_sqr=1-(1-r2)*(len(y)-1)/(len(y)-x.shape[1]-1)\n",
    "print('ADJ R-SQR',adj_r_sqr)"
   ]
  },
  {
   "cell_type": "code",
   "execution_count": 86,
   "metadata": {},
   "outputs": [],
   "source": [
    "## SO THE BASE DT LINEAR MODEL IS GIVING R SQUARED VALUE AS 0.26. SO IT IS THE WORST MODEL. "
   ]
  },
  {
   "cell_type": "markdown",
   "metadata": {},
   "source": [
    "SO AFTER BUILDING VARIOUS MODEL WE CAN SAY THAT RIDGE REGRESSOR IS THE BEST MODEL WITH R SQUARED VALUE EQUAL TO 0.7209\n",
    "AND WE WILL USE THIS MODEL FOR FUTURE PREDICTIONS "
   ]
  },
  {
   "cell_type": "code",
   "execution_count": null,
   "metadata": {},
   "outputs": [],
   "source": []
  }
 ],
 "metadata": {
  "kernelspec": {
   "display_name": "Python 3",
   "language": "python",
   "name": "python3"
  },
  "language_info": {
   "codemirror_mode": {
    "name": "ipython",
    "version": 3
   },
   "file_extension": ".py",
   "mimetype": "text/x-python",
   "name": "python",
   "nbconvert_exporter": "python",
   "pygments_lexer": "ipython3",
   "version": "3.7.6"
  }
 },
 "nbformat": 4,
 "nbformat_minor": 4
}
